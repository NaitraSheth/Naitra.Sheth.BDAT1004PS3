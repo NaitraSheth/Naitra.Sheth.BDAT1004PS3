{
 "cells": [
  {
   "cell_type": "markdown",
   "id": "ce19d54f",
   "metadata": {},
   "source": [
    "# Naitra Sheth \n",
    "# Student ID - 200542440\n",
    "# Problem Set - 3"
   ]
  },
  {
   "cell_type": "markdown",
   "id": "a23c2536",
   "metadata": {},
   "source": [
    "# Question 1:\n",
    "\n",
    "### Step 1. Import the necessary libraries"
   ]
  },
  {
   "cell_type": "code",
   "execution_count": 4,
   "id": "2caff1ec",
   "metadata": {},
   "outputs": [],
   "source": [
    "import pandas as pd"
   ]
  },
  {
   "cell_type": "markdown",
   "id": "09413e6a",
   "metadata": {},
   "source": [
    "### Step 2. Import the dataset from this address."
   ]
  },
  {
   "cell_type": "code",
   "execution_count": 5,
   "id": "f3573b91",
   "metadata": {},
   "outputs": [],
   "source": [
    "url = 'https://raw.githubusercontent.com/justmarkham/DAT8/master/data/u.user'\n",
    "users = pd.read_csv(url, sep='|', index_col='user_id')"
   ]
  },
  {
   "cell_type": "markdown",
   "id": "05e38d50",
   "metadata": {},
   "source": [
    "### Step 3. Assign it to a variable called users"
   ]
  },
  {
   "cell_type": "code",
   "execution_count": 6,
   "id": "e1f443aa",
   "metadata": {},
   "outputs": [
    {
     "data": {
      "text/html": [
       "<div>\n",
       "<style scoped>\n",
       "    .dataframe tbody tr th:only-of-type {\n",
       "        vertical-align: middle;\n",
       "    }\n",
       "\n",
       "    .dataframe tbody tr th {\n",
       "        vertical-align: top;\n",
       "    }\n",
       "\n",
       "    .dataframe thead th {\n",
       "        text-align: right;\n",
       "    }\n",
       "</style>\n",
       "<table border=\"1\" class=\"dataframe\">\n",
       "  <thead>\n",
       "    <tr style=\"text-align: right;\">\n",
       "      <th></th>\n",
       "      <th>age</th>\n",
       "      <th>gender</th>\n",
       "      <th>occupation</th>\n",
       "      <th>zip_code</th>\n",
       "    </tr>\n",
       "    <tr>\n",
       "      <th>user_id</th>\n",
       "      <th></th>\n",
       "      <th></th>\n",
       "      <th></th>\n",
       "      <th></th>\n",
       "    </tr>\n",
       "  </thead>\n",
       "  <tbody>\n",
       "    <tr>\n",
       "      <th>1</th>\n",
       "      <td>24</td>\n",
       "      <td>M</td>\n",
       "      <td>technician</td>\n",
       "      <td>85711</td>\n",
       "    </tr>\n",
       "    <tr>\n",
       "      <th>2</th>\n",
       "      <td>53</td>\n",
       "      <td>F</td>\n",
       "      <td>other</td>\n",
       "      <td>94043</td>\n",
       "    </tr>\n",
       "    <tr>\n",
       "      <th>3</th>\n",
       "      <td>23</td>\n",
       "      <td>M</td>\n",
       "      <td>writer</td>\n",
       "      <td>32067</td>\n",
       "    </tr>\n",
       "    <tr>\n",
       "      <th>4</th>\n",
       "      <td>24</td>\n",
       "      <td>M</td>\n",
       "      <td>technician</td>\n",
       "      <td>43537</td>\n",
       "    </tr>\n",
       "    <tr>\n",
       "      <th>5</th>\n",
       "      <td>33</td>\n",
       "      <td>F</td>\n",
       "      <td>other</td>\n",
       "      <td>15213</td>\n",
       "    </tr>\n",
       "  </tbody>\n",
       "</table>\n",
       "</div>"
      ],
      "text/plain": [
       "         age gender  occupation zip_code\n",
       "user_id                                 \n",
       "1         24      M  technician    85711\n",
       "2         53      F       other    94043\n",
       "3         23      M      writer    32067\n",
       "4         24      M  technician    43537\n",
       "5         33      F       other    15213"
      ]
     },
     "execution_count": 6,
     "metadata": {},
     "output_type": "execute_result"
    }
   ],
   "source": [
    "users.head()"
   ]
  },
  {
   "cell_type": "markdown",
   "id": "5cf14281",
   "metadata": {},
   "source": [
    "### Step 4. Discover what is the mean age per occupation"
   ]
  },
  {
   "cell_type": "code",
   "execution_count": 7,
   "id": "a9bdcd88",
   "metadata": {},
   "outputs": [
    {
     "data": {
      "text/plain": [
       "occupation\n",
       "administrator    38.746835\n",
       "artist           31.392857\n",
       "doctor           43.571429\n",
       "educator         42.010526\n",
       "engineer         36.388060\n",
       "entertainment    29.222222\n",
       "executive        38.718750\n",
       "healthcare       41.562500\n",
       "homemaker        32.571429\n",
       "lawyer           36.750000\n",
       "librarian        40.000000\n",
       "marketing        37.615385\n",
       "none             26.555556\n",
       "other            34.523810\n",
       "programmer       33.121212\n",
       "retired          63.071429\n",
       "salesman         35.666667\n",
       "scientist        35.548387\n",
       "student          22.081633\n",
       "technician       33.148148\n",
       "writer           36.311111\n",
       "Name: age, dtype: float64"
      ]
     },
     "execution_count": 7,
     "metadata": {},
     "output_type": "execute_result"
    }
   ],
   "source": [
    "users.groupby('occupation').age.mean()"
   ]
  },
  {
   "cell_type": "markdown",
   "id": "ec805da6",
   "metadata": {},
   "source": [
    "### Step 5. Discover the Male ratio per occupation and sort it from the most to the least"
   ]
  },
  {
   "cell_type": "code",
   "execution_count": 8,
   "id": "6d51b138",
   "metadata": {},
   "outputs": [
    {
     "data": {
      "text/plain": [
       "occupation\n",
       "doctor           100.000000\n",
       "engineer          97.014925\n",
       "technician        96.296296\n",
       "retired           92.857143\n",
       "programmer        90.909091\n",
       "executive         90.625000\n",
       "scientist         90.322581\n",
       "entertainment     88.888889\n",
       "lawyer            83.333333\n",
       "salesman          75.000000\n",
       "educator          72.631579\n",
       "student           69.387755\n",
       "other             65.714286\n",
       "marketing         61.538462\n",
       "writer            57.777778\n",
       "none              55.555556\n",
       "administrator     54.430380\n",
       "artist            53.571429\n",
       "librarian         43.137255\n",
       "healthcare        31.250000\n",
       "homemaker         14.285714\n",
       "Name: gender, dtype: float64"
      ]
     },
     "execution_count": 8,
     "metadata": {},
     "output_type": "execute_result"
    }
   ],
   "source": [
    "# create a function to convert gender to numeric values\n",
    "def gender_to_numeric(x):\n",
    "    if x == 'M':\n",
    "        return 1\n",
    "    if x == 'F':\n",
    "        return 0\n",
    "\n",
    "# apply the function to the gender column and create a new column\n",
    "users['gender_n'] = users['gender'].apply(gender_to_numeric)\n",
    "\n",
    "# create a new dataframe with the total number of M and F per occupation\n",
    "gender_occ = users.groupby(['occupation', 'gender_n']).gender.count()\n",
    "\n",
    "# create a new dataframe with the total number of M per occupation\n",
    "total_occ = users.groupby('occupation').gender.count()\n",
    "\n",
    "# calculate the Male ratio per occupation\n",
    "male_ratio = gender_occ.loc[:,1] / total_occ * 100\n",
    "\n",
    "# sort the values from the most to the least\n",
    "male_ratio.sort_values(ascending=False, inplace=True)\n",
    "male_ratio"
   ]
  },
  {
   "cell_type": "markdown",
   "id": "4ac63507",
   "metadata": {},
   "source": [
    "### Step 6. For each occupation, calculate the minimum and maximum ages"
   ]
  },
  {
   "cell_type": "code",
   "execution_count": 9,
   "id": "d874314b",
   "metadata": {},
   "outputs": [
    {
     "data": {
      "text/html": [
       "<div>\n",
       "<style scoped>\n",
       "    .dataframe tbody tr th:only-of-type {\n",
       "        vertical-align: middle;\n",
       "    }\n",
       "\n",
       "    .dataframe tbody tr th {\n",
       "        vertical-align: top;\n",
       "    }\n",
       "\n",
       "    .dataframe thead th {\n",
       "        text-align: right;\n",
       "    }\n",
       "</style>\n",
       "<table border=\"1\" class=\"dataframe\">\n",
       "  <thead>\n",
       "    <tr style=\"text-align: right;\">\n",
       "      <th></th>\n",
       "      <th>min</th>\n",
       "      <th>max</th>\n",
       "    </tr>\n",
       "    <tr>\n",
       "      <th>occupation</th>\n",
       "      <th></th>\n",
       "      <th></th>\n",
       "    </tr>\n",
       "  </thead>\n",
       "  <tbody>\n",
       "    <tr>\n",
       "      <th>administrator</th>\n",
       "      <td>21</td>\n",
       "      <td>70</td>\n",
       "    </tr>\n",
       "    <tr>\n",
       "      <th>artist</th>\n",
       "      <td>19</td>\n",
       "      <td>48</td>\n",
       "    </tr>\n",
       "    <tr>\n",
       "      <th>doctor</th>\n",
       "      <td>28</td>\n",
       "      <td>64</td>\n",
       "    </tr>\n",
       "    <tr>\n",
       "      <th>educator</th>\n",
       "      <td>23</td>\n",
       "      <td>63</td>\n",
       "    </tr>\n",
       "    <tr>\n",
       "      <th>engineer</th>\n",
       "      <td>22</td>\n",
       "      <td>70</td>\n",
       "    </tr>\n",
       "    <tr>\n",
       "      <th>entertainment</th>\n",
       "      <td>15</td>\n",
       "      <td>50</td>\n",
       "    </tr>\n",
       "    <tr>\n",
       "      <th>executive</th>\n",
       "      <td>22</td>\n",
       "      <td>69</td>\n",
       "    </tr>\n",
       "    <tr>\n",
       "      <th>healthcare</th>\n",
       "      <td>22</td>\n",
       "      <td>62</td>\n",
       "    </tr>\n",
       "    <tr>\n",
       "      <th>homemaker</th>\n",
       "      <td>20</td>\n",
       "      <td>50</td>\n",
       "    </tr>\n",
       "    <tr>\n",
       "      <th>lawyer</th>\n",
       "      <td>21</td>\n",
       "      <td>53</td>\n",
       "    </tr>\n",
       "    <tr>\n",
       "      <th>librarian</th>\n",
       "      <td>23</td>\n",
       "      <td>69</td>\n",
       "    </tr>\n",
       "    <tr>\n",
       "      <th>marketing</th>\n",
       "      <td>24</td>\n",
       "      <td>55</td>\n",
       "    </tr>\n",
       "    <tr>\n",
       "      <th>none</th>\n",
       "      <td>11</td>\n",
       "      <td>55</td>\n",
       "    </tr>\n",
       "    <tr>\n",
       "      <th>other</th>\n",
       "      <td>13</td>\n",
       "      <td>64</td>\n",
       "    </tr>\n",
       "    <tr>\n",
       "      <th>programmer</th>\n",
       "      <td>20</td>\n",
       "      <td>63</td>\n",
       "    </tr>\n",
       "    <tr>\n",
       "      <th>retired</th>\n",
       "      <td>51</td>\n",
       "      <td>73</td>\n",
       "    </tr>\n",
       "    <tr>\n",
       "      <th>salesman</th>\n",
       "      <td>18</td>\n",
       "      <td>66</td>\n",
       "    </tr>\n",
       "    <tr>\n",
       "      <th>scientist</th>\n",
       "      <td>23</td>\n",
       "      <td>55</td>\n",
       "    </tr>\n",
       "    <tr>\n",
       "      <th>student</th>\n",
       "      <td>7</td>\n",
       "      <td>42</td>\n",
       "    </tr>\n",
       "    <tr>\n",
       "      <th>technician</th>\n",
       "      <td>21</td>\n",
       "      <td>55</td>\n",
       "    </tr>\n",
       "    <tr>\n",
       "      <th>writer</th>\n",
       "      <td>18</td>\n",
       "      <td>60</td>\n",
       "    </tr>\n",
       "  </tbody>\n",
       "</table>\n",
       "</div>"
      ],
      "text/plain": [
       "               min  max\n",
       "occupation             \n",
       "administrator   21   70\n",
       "artist          19   48\n",
       "doctor          28   64\n",
       "educator        23   63\n",
       "engineer        22   70\n",
       "entertainment   15   50\n",
       "executive       22   69\n",
       "healthcare      22   62\n",
       "homemaker       20   50\n",
       "lawyer          21   53\n",
       "librarian       23   69\n",
       "marketing       24   55\n",
       "none            11   55\n",
       "other           13   64\n",
       "programmer      20   63\n",
       "retired         51   73\n",
       "salesman        18   66\n",
       "scientist       23   55\n",
       "student          7   42\n",
       "technician      21   55\n",
       "writer          18   60"
      ]
     },
     "execution_count": 9,
     "metadata": {},
     "output_type": "execute_result"
    }
   ],
   "source": [
    "users.groupby('occupation').age.agg(['min', 'max'])"
   ]
  },
  {
   "cell_type": "markdown",
   "id": "3af16f46",
   "metadata": {},
   "source": [
    "### Step 7. For each combination of occupation and sex, calculate the mean age"
   ]
  },
  {
   "cell_type": "code",
   "execution_count": 10,
   "id": "1faec5ef",
   "metadata": {},
   "outputs": [
    {
     "data": {
      "text/plain": [
       "occupation     gender\n",
       "administrator  F         40.638889\n",
       "               M         37.162791\n",
       "artist         F         30.307692\n",
       "               M         32.333333\n",
       "doctor         M         43.571429\n",
       "educator       F         39.115385\n",
       "               M         43.101449\n",
       "engineer       F         29.500000\n",
       "               M         36.600000\n",
       "entertainment  F         31.000000\n",
       "               M         29.000000\n",
       "executive      F         44.000000\n",
       "               M         38.172414\n",
       "healthcare     F         39.818182\n",
       "               M         45.400000\n",
       "homemaker      F         34.166667\n",
       "               M         23.000000\n",
       "lawyer         F         39.500000\n",
       "               M         36.200000\n",
       "librarian      F         40.000000\n",
       "               M         40.000000\n",
       "marketing      F         37.200000\n",
       "               M         37.875000\n",
       "none           F         36.500000\n",
       "               M         18.600000\n",
       "other          F         35.472222\n",
       "               M         34.028986\n",
       "programmer     F         32.166667\n",
       "               M         33.216667\n",
       "retired        F         70.000000\n",
       "               M         62.538462\n",
       "salesman       F         27.000000\n",
       "               M         38.555556\n",
       "scientist      F         28.333333\n",
       "               M         36.321429\n",
       "student        F         20.750000\n",
       "               M         22.669118\n",
       "technician     F         38.000000\n",
       "               M         32.961538\n",
       "writer         F         37.631579\n",
       "               M         35.346154\n",
       "Name: age, dtype: float64"
      ]
     },
     "execution_count": 10,
     "metadata": {},
     "output_type": "execute_result"
    }
   ],
   "source": [
    "users.groupby(['occupation', 'gender']).age.mean()"
   ]
  },
  {
   "cell_type": "markdown",
   "id": "806dd098",
   "metadata": {},
   "source": [
    "### Step 8. For each occupation present the percentage of women and men"
   ]
  },
  {
   "cell_type": "code",
   "execution_count": 11,
   "id": "c35929e2",
   "metadata": {},
   "outputs": [
    {
     "data": {
      "text/html": [
       "<div>\n",
       "<style scoped>\n",
       "    .dataframe tbody tr th:only-of-type {\n",
       "        vertical-align: middle;\n",
       "    }\n",
       "\n",
       "    .dataframe tbody tr th {\n",
       "        vertical-align: top;\n",
       "    }\n",
       "\n",
       "    .dataframe thead th {\n",
       "        text-align: right;\n",
       "    }\n",
       "</style>\n",
       "<table border=\"1\" class=\"dataframe\">\n",
       "  <thead>\n",
       "    <tr style=\"text-align: right;\">\n",
       "      <th>gender</th>\n",
       "      <th>F</th>\n",
       "      <th>M</th>\n",
       "    </tr>\n",
       "    <tr>\n",
       "      <th>occupation</th>\n",
       "      <th></th>\n",
       "      <th></th>\n",
       "    </tr>\n",
       "  </thead>\n",
       "  <tbody>\n",
       "    <tr>\n",
       "      <th>administrator</th>\n",
       "      <td>13.19</td>\n",
       "      <td>6.42</td>\n",
       "    </tr>\n",
       "    <tr>\n",
       "      <th>artist</th>\n",
       "      <td>4.76</td>\n",
       "      <td>2.24</td>\n",
       "    </tr>\n",
       "    <tr>\n",
       "      <th>doctor</th>\n",
       "      <td>NaN</td>\n",
       "      <td>1.04</td>\n",
       "    </tr>\n",
       "    <tr>\n",
       "      <th>educator</th>\n",
       "      <td>9.52</td>\n",
       "      <td>10.30</td>\n",
       "    </tr>\n",
       "    <tr>\n",
       "      <th>engineer</th>\n",
       "      <td>0.73</td>\n",
       "      <td>9.70</td>\n",
       "    </tr>\n",
       "    <tr>\n",
       "      <th>entertainment</th>\n",
       "      <td>0.73</td>\n",
       "      <td>2.39</td>\n",
       "    </tr>\n",
       "    <tr>\n",
       "      <th>executive</th>\n",
       "      <td>1.10</td>\n",
       "      <td>4.33</td>\n",
       "    </tr>\n",
       "    <tr>\n",
       "      <th>healthcare</th>\n",
       "      <td>4.03</td>\n",
       "      <td>0.75</td>\n",
       "    </tr>\n",
       "    <tr>\n",
       "      <th>homemaker</th>\n",
       "      <td>2.20</td>\n",
       "      <td>0.15</td>\n",
       "    </tr>\n",
       "    <tr>\n",
       "      <th>lawyer</th>\n",
       "      <td>0.73</td>\n",
       "      <td>1.49</td>\n",
       "    </tr>\n",
       "    <tr>\n",
       "      <th>librarian</th>\n",
       "      <td>10.62</td>\n",
       "      <td>3.28</td>\n",
       "    </tr>\n",
       "    <tr>\n",
       "      <th>marketing</th>\n",
       "      <td>3.66</td>\n",
       "      <td>2.39</td>\n",
       "    </tr>\n",
       "    <tr>\n",
       "      <th>none</th>\n",
       "      <td>1.47</td>\n",
       "      <td>0.75</td>\n",
       "    </tr>\n",
       "    <tr>\n",
       "      <th>other</th>\n",
       "      <td>13.19</td>\n",
       "      <td>10.30</td>\n",
       "    </tr>\n",
       "    <tr>\n",
       "      <th>programmer</th>\n",
       "      <td>2.20</td>\n",
       "      <td>8.96</td>\n",
       "    </tr>\n",
       "    <tr>\n",
       "      <th>retired</th>\n",
       "      <td>0.37</td>\n",
       "      <td>1.94</td>\n",
       "    </tr>\n",
       "    <tr>\n",
       "      <th>salesman</th>\n",
       "      <td>1.10</td>\n",
       "      <td>1.34</td>\n",
       "    </tr>\n",
       "    <tr>\n",
       "      <th>scientist</th>\n",
       "      <td>1.10</td>\n",
       "      <td>4.18</td>\n",
       "    </tr>\n",
       "    <tr>\n",
       "      <th>student</th>\n",
       "      <td>21.98</td>\n",
       "      <td>20.30</td>\n",
       "    </tr>\n",
       "    <tr>\n",
       "      <th>technician</th>\n",
       "      <td>0.37</td>\n",
       "      <td>3.88</td>\n",
       "    </tr>\n",
       "    <tr>\n",
       "      <th>writer</th>\n",
       "      <td>6.96</td>\n",
       "      <td>3.88</td>\n",
       "    </tr>\n",
       "  </tbody>\n",
       "</table>\n",
       "</div>"
      ],
      "text/plain": [
       "gender             F      M\n",
       "occupation                 \n",
       "administrator  13.19   6.42\n",
       "artist          4.76   2.24\n",
       "doctor           NaN   1.04\n",
       "educator        9.52  10.30\n",
       "engineer        0.73   9.70\n",
       "entertainment   0.73   2.39\n",
       "executive       1.10   4.33\n",
       "healthcare      4.03   0.75\n",
       "homemaker       2.20   0.15\n",
       "lawyer          0.73   1.49\n",
       "librarian      10.62   3.28\n",
       "marketing       3.66   2.39\n",
       "none            1.47   0.75\n",
       "other          13.19  10.30\n",
       "programmer      2.20   8.96\n",
       "retired         0.37   1.94\n",
       "salesman        1.10   1.34\n",
       "scientist       1.10   4.18\n",
       "student        21.98  20.30\n",
       "technician      0.37   3.88\n",
       "writer          6.96   3.88"
      ]
     },
     "execution_count": 11,
     "metadata": {},
     "output_type": "execute_result"
    }
   ],
   "source": [
    "# create a new dataframe with the total number of M and F per occupation\n",
    "gender_occ = users.groupby(['occupation', 'gender']).gender.count()\n",
    "\n",
    "# create a new dataframe with the total number of M and F\n",
    "total_gender = users.groupby('gender').gender.count()\n",
    "\n",
    "# calculate the percentage of women and men per occupation\n",
    "occup_gender = gender_occ / total_gender * 100\n",
    "\n",
    "# present the percentage of women and men per occupation\n",
    "occup_gender.unstack().round(2)"
   ]
  },
  {
   "cell_type": "markdown",
   "id": "aec2c5fc",
   "metadata": {},
   "source": [
    "# Question 2\n",
    "\n",
    "### Step 1. Import the necessary libraries"
   ]
  },
  {
   "cell_type": "code",
   "execution_count": 12,
   "id": "3adf805e",
   "metadata": {},
   "outputs": [],
   "source": [
    "import pandas as pd"
   ]
  },
  {
   "cell_type": "markdown",
   "id": "3a042128",
   "metadata": {},
   "source": [
    "### Step 2. Import the dataset from this address"
   ]
  },
  {
   "cell_type": "code",
   "execution_count": 16,
   "id": "e91d5298",
   "metadata": {},
   "outputs": [],
   "source": [
    "url = \"https://raw.githubusercontent.com/guipsamora/pandas_exercises/master/02_Filtering_%26_Sorting/Euro12/Euro_2012_stats_TEAM.csv\"\n",
    "euro12 = pd.read_csv(url)"
   ]
  },
  {
   "cell_type": "markdown",
   "id": "b9fc34cc",
   "metadata": {},
   "source": [
    "### Step 3. Assign it to a variable called euro12"
   ]
  },
  {
   "cell_type": "code",
   "execution_count": 17,
   "id": "17aedba2",
   "metadata": {},
   "outputs": [],
   "source": [
    "euro12 = pd.read_csv(url)"
   ]
  },
  {
   "cell_type": "markdown",
   "id": "f2856fbc",
   "metadata": {},
   "source": [
    "### Step 4. Select only the Goal column"
   ]
  },
  {
   "cell_type": "code",
   "execution_count": 18,
   "id": "e4347934",
   "metadata": {},
   "outputs": [],
   "source": [
    "goals = euro12['Goals']"
   ]
  },
  {
   "cell_type": "markdown",
   "id": "2584dfdb",
   "metadata": {},
   "source": [
    "### Step 5. How many teams participated in the Euro2012?"
   ]
  },
  {
   "cell_type": "code",
   "execution_count": 19,
   "id": "b087400a",
   "metadata": {},
   "outputs": [
    {
     "name": "stdout",
     "output_type": "stream",
     "text": [
      "The number of teams that participated in the Euro2012 is: 16\n"
     ]
    }
   ],
   "source": [
    "num_teams = euro12['Team'].count()\n",
    "print('The number of teams that participated in the Euro2012 is:', num_teams)"
   ]
  },
  {
   "cell_type": "markdown",
   "id": "9d77083c",
   "metadata": {},
   "source": [
    "### Step 6. What is the number of columns in the dataset?"
   ]
  },
  {
   "cell_type": "code",
   "execution_count": 20,
   "id": "601dbfdb",
   "metadata": {},
   "outputs": [
    {
     "name": "stdout",
     "output_type": "stream",
     "text": [
      "The number of columns in the dataset is: 35\n"
     ]
    }
   ],
   "source": [
    "num_columns = euro12.shape[1]\n",
    "print('The number of columns in the dataset is:', num_columns)"
   ]
  },
  {
   "cell_type": "markdown",
   "id": "cad33d0e",
   "metadata": {},
   "source": [
    "### Step 7. View only the columns Team, Yellow Cards and Red Cards and assign them to a dataframe called discipline"
   ]
  },
  {
   "cell_type": "code",
   "execution_count": 21,
   "id": "0f90ac9a",
   "metadata": {},
   "outputs": [],
   "source": [
    "discipline = euro12[['Team', 'Yellow Cards', 'Red Cards']]"
   ]
  },
  {
   "cell_type": "markdown",
   "id": "1f5ac73c",
   "metadata": {},
   "source": [
    "### Step 8. Sort the teams by Red Cards, then to Yellow Cards"
   ]
  },
  {
   "cell_type": "code",
   "execution_count": 22,
   "id": "8b65abd5",
   "metadata": {},
   "outputs": [
    {
     "data": {
      "text/html": [
       "<div>\n",
       "<style scoped>\n",
       "    .dataframe tbody tr th:only-of-type {\n",
       "        vertical-align: middle;\n",
       "    }\n",
       "\n",
       "    .dataframe tbody tr th {\n",
       "        vertical-align: top;\n",
       "    }\n",
       "\n",
       "    .dataframe thead th {\n",
       "        text-align: right;\n",
       "    }\n",
       "</style>\n",
       "<table border=\"1\" class=\"dataframe\">\n",
       "  <thead>\n",
       "    <tr style=\"text-align: right;\">\n",
       "      <th></th>\n",
       "      <th>Team</th>\n",
       "      <th>Yellow Cards</th>\n",
       "      <th>Red Cards</th>\n",
       "    </tr>\n",
       "  </thead>\n",
       "  <tbody>\n",
       "    <tr>\n",
       "      <th>6</th>\n",
       "      <td>Greece</td>\n",
       "      <td>9</td>\n",
       "      <td>1</td>\n",
       "    </tr>\n",
       "    <tr>\n",
       "      <th>9</th>\n",
       "      <td>Poland</td>\n",
       "      <td>7</td>\n",
       "      <td>1</td>\n",
       "    </tr>\n",
       "    <tr>\n",
       "      <th>11</th>\n",
       "      <td>Republic of Ireland</td>\n",
       "      <td>6</td>\n",
       "      <td>1</td>\n",
       "    </tr>\n",
       "    <tr>\n",
       "      <th>7</th>\n",
       "      <td>Italy</td>\n",
       "      <td>16</td>\n",
       "      <td>0</td>\n",
       "    </tr>\n",
       "    <tr>\n",
       "      <th>10</th>\n",
       "      <td>Portugal</td>\n",
       "      <td>12</td>\n",
       "      <td>0</td>\n",
       "    </tr>\n",
       "    <tr>\n",
       "      <th>13</th>\n",
       "      <td>Spain</td>\n",
       "      <td>11</td>\n",
       "      <td>0</td>\n",
       "    </tr>\n",
       "    <tr>\n",
       "      <th>0</th>\n",
       "      <td>Croatia</td>\n",
       "      <td>9</td>\n",
       "      <td>0</td>\n",
       "    </tr>\n",
       "    <tr>\n",
       "      <th>1</th>\n",
       "      <td>Czech Republic</td>\n",
       "      <td>7</td>\n",
       "      <td>0</td>\n",
       "    </tr>\n",
       "    <tr>\n",
       "      <th>14</th>\n",
       "      <td>Sweden</td>\n",
       "      <td>7</td>\n",
       "      <td>0</td>\n",
       "    </tr>\n",
       "    <tr>\n",
       "      <th>4</th>\n",
       "      <td>France</td>\n",
       "      <td>6</td>\n",
       "      <td>0</td>\n",
       "    </tr>\n",
       "    <tr>\n",
       "      <th>12</th>\n",
       "      <td>Russia</td>\n",
       "      <td>6</td>\n",
       "      <td>0</td>\n",
       "    </tr>\n",
       "    <tr>\n",
       "      <th>3</th>\n",
       "      <td>England</td>\n",
       "      <td>5</td>\n",
       "      <td>0</td>\n",
       "    </tr>\n",
       "    <tr>\n",
       "      <th>8</th>\n",
       "      <td>Netherlands</td>\n",
       "      <td>5</td>\n",
       "      <td>0</td>\n",
       "    </tr>\n",
       "    <tr>\n",
       "      <th>15</th>\n",
       "      <td>Ukraine</td>\n",
       "      <td>5</td>\n",
       "      <td>0</td>\n",
       "    </tr>\n",
       "    <tr>\n",
       "      <th>2</th>\n",
       "      <td>Denmark</td>\n",
       "      <td>4</td>\n",
       "      <td>0</td>\n",
       "    </tr>\n",
       "    <tr>\n",
       "      <th>5</th>\n",
       "      <td>Germany</td>\n",
       "      <td>4</td>\n",
       "      <td>0</td>\n",
       "    </tr>\n",
       "  </tbody>\n",
       "</table>\n",
       "</div>"
      ],
      "text/plain": [
       "                   Team  Yellow Cards  Red Cards\n",
       "6                Greece             9          1\n",
       "9                Poland             7          1\n",
       "11  Republic of Ireland             6          1\n",
       "7                 Italy            16          0\n",
       "10             Portugal            12          0\n",
       "13                Spain            11          0\n",
       "0               Croatia             9          0\n",
       "1        Czech Republic             7          0\n",
       "14               Sweden             7          0\n",
       "4                France             6          0\n",
       "12               Russia             6          0\n",
       "3               England             5          0\n",
       "8           Netherlands             5          0\n",
       "15              Ukraine             5          0\n",
       "2               Denmark             4          0\n",
       "5               Germany             4          0"
      ]
     },
     "execution_count": 22,
     "metadata": {},
     "output_type": "execute_result"
    }
   ],
   "source": [
    "discipline.sort_values(['Red Cards', 'Yellow Cards'], ascending=[False, False])"
   ]
  },
  {
   "cell_type": "markdown",
   "id": "f509ff5a",
   "metadata": {},
   "source": [
    "### Step 9. Calculate the mean Yellow Cards given per Team"
   ]
  },
  {
   "cell_type": "code",
   "execution_count": 23,
   "id": "ba95b170",
   "metadata": {},
   "outputs": [
    {
     "name": "stdout",
     "output_type": "stream",
     "text": [
      "The mean Yellow Cards given per team is: 7.4375\n"
     ]
    }
   ],
   "source": [
    "mean_yellow_cards = euro12['Yellow Cards'].mean()\n",
    "print('The mean Yellow Cards given per team is:', mean_yellow_cards)"
   ]
  },
  {
   "cell_type": "markdown",
   "id": "03ff5233",
   "metadata": {},
   "source": [
    "### Step 10. Filter teams that scored more than 6 goals"
   ]
  },
  {
   "cell_type": "code",
   "execution_count": 24,
   "id": "0e69fac3",
   "metadata": {},
   "outputs": [
    {
     "data": {
      "text/html": [
       "<div>\n",
       "<style scoped>\n",
       "    .dataframe tbody tr th:only-of-type {\n",
       "        vertical-align: middle;\n",
       "    }\n",
       "\n",
       "    .dataframe tbody tr th {\n",
       "        vertical-align: top;\n",
       "    }\n",
       "\n",
       "    .dataframe thead th {\n",
       "        text-align: right;\n",
       "    }\n",
       "</style>\n",
       "<table border=\"1\" class=\"dataframe\">\n",
       "  <thead>\n",
       "    <tr style=\"text-align: right;\">\n",
       "      <th></th>\n",
       "      <th>Team</th>\n",
       "      <th>Goals</th>\n",
       "    </tr>\n",
       "  </thead>\n",
       "  <tbody>\n",
       "    <tr>\n",
       "      <th>5</th>\n",
       "      <td>Germany</td>\n",
       "      <td>10</td>\n",
       "    </tr>\n",
       "    <tr>\n",
       "      <th>13</th>\n",
       "      <td>Spain</td>\n",
       "      <td>12</td>\n",
       "    </tr>\n",
       "  </tbody>\n",
       "</table>\n",
       "</div>"
      ],
      "text/plain": [
       "       Team  Goals\n",
       "5   Germany     10\n",
       "13    Spain     12"
      ]
     },
     "execution_count": 24,
     "metadata": {},
     "output_type": "execute_result"
    }
   ],
   "source": [
    "high_goals = euro12[euro12['Goals'] > 6]\n",
    "high_goals[['Team', 'Goals']]"
   ]
  },
  {
   "cell_type": "markdown",
   "id": "f990f9db",
   "metadata": {},
   "source": [
    "### Step 11. Select the teams that start with G"
   ]
  },
  {
   "cell_type": "code",
   "execution_count": 25,
   "id": "ec2a922d",
   "metadata": {},
   "outputs": [
    {
     "data": {
      "text/plain": [
       "5    Germany\n",
       "6     Greece\n",
       "Name: Team, dtype: object"
      ]
     },
     "execution_count": 25,
     "metadata": {},
     "output_type": "execute_result"
    }
   ],
   "source": [
    "g_teams = euro12[euro12['Team'].str.startswith('G')]\n",
    "g_teams['Team']"
   ]
  },
  {
   "cell_type": "markdown",
   "id": "15a97b4a",
   "metadata": {},
   "source": [
    "### Step 12. Select the first 7 columns"
   ]
  },
  {
   "cell_type": "code",
   "execution_count": 26,
   "id": "02200515",
   "metadata": {},
   "outputs": [
    {
     "data": {
      "text/html": [
       "<div>\n",
       "<style scoped>\n",
       "    .dataframe tbody tr th:only-of-type {\n",
       "        vertical-align: middle;\n",
       "    }\n",
       "\n",
       "    .dataframe tbody tr th {\n",
       "        vertical-align: top;\n",
       "    }\n",
       "\n",
       "    .dataframe thead th {\n",
       "        text-align: right;\n",
       "    }\n",
       "</style>\n",
       "<table border=\"1\" class=\"dataframe\">\n",
       "  <thead>\n",
       "    <tr style=\"text-align: right;\">\n",
       "      <th></th>\n",
       "      <th>Team</th>\n",
       "      <th>Goals</th>\n",
       "      <th>Shots on target</th>\n",
       "      <th>Shots off target</th>\n",
       "      <th>Shooting Accuracy</th>\n",
       "      <th>% Goals-to-shots</th>\n",
       "      <th>Total shots (inc. Blocked)</th>\n",
       "    </tr>\n",
       "  </thead>\n",
       "  <tbody>\n",
       "    <tr>\n",
       "      <th>0</th>\n",
       "      <td>Croatia</td>\n",
       "      <td>4</td>\n",
       "      <td>13</td>\n",
       "      <td>12</td>\n",
       "      <td>51.9%</td>\n",
       "      <td>16.0%</td>\n",
       "      <td>32</td>\n",
       "    </tr>\n",
       "    <tr>\n",
       "      <th>1</th>\n",
       "      <td>Czech Republic</td>\n",
       "      <td>4</td>\n",
       "      <td>13</td>\n",
       "      <td>18</td>\n",
       "      <td>41.9%</td>\n",
       "      <td>12.9%</td>\n",
       "      <td>39</td>\n",
       "    </tr>\n",
       "    <tr>\n",
       "      <th>2</th>\n",
       "      <td>Denmark</td>\n",
       "      <td>4</td>\n",
       "      <td>10</td>\n",
       "      <td>10</td>\n",
       "      <td>50.0%</td>\n",
       "      <td>20.0%</td>\n",
       "      <td>27</td>\n",
       "    </tr>\n",
       "    <tr>\n",
       "      <th>3</th>\n",
       "      <td>England</td>\n",
       "      <td>5</td>\n",
       "      <td>11</td>\n",
       "      <td>18</td>\n",
       "      <td>50.0%</td>\n",
       "      <td>17.2%</td>\n",
       "      <td>40</td>\n",
       "    </tr>\n",
       "    <tr>\n",
       "      <th>4</th>\n",
       "      <td>France</td>\n",
       "      <td>3</td>\n",
       "      <td>22</td>\n",
       "      <td>24</td>\n",
       "      <td>37.9%</td>\n",
       "      <td>6.5%</td>\n",
       "      <td>65</td>\n",
       "    </tr>\n",
       "    <tr>\n",
       "      <th>5</th>\n",
       "      <td>Germany</td>\n",
       "      <td>10</td>\n",
       "      <td>32</td>\n",
       "      <td>32</td>\n",
       "      <td>47.8%</td>\n",
       "      <td>15.6%</td>\n",
       "      <td>80</td>\n",
       "    </tr>\n",
       "    <tr>\n",
       "      <th>6</th>\n",
       "      <td>Greece</td>\n",
       "      <td>5</td>\n",
       "      <td>8</td>\n",
       "      <td>18</td>\n",
       "      <td>30.7%</td>\n",
       "      <td>19.2%</td>\n",
       "      <td>32</td>\n",
       "    </tr>\n",
       "    <tr>\n",
       "      <th>7</th>\n",
       "      <td>Italy</td>\n",
       "      <td>6</td>\n",
       "      <td>34</td>\n",
       "      <td>45</td>\n",
       "      <td>43.0%</td>\n",
       "      <td>7.5%</td>\n",
       "      <td>110</td>\n",
       "    </tr>\n",
       "    <tr>\n",
       "      <th>8</th>\n",
       "      <td>Netherlands</td>\n",
       "      <td>2</td>\n",
       "      <td>12</td>\n",
       "      <td>36</td>\n",
       "      <td>25.0%</td>\n",
       "      <td>4.1%</td>\n",
       "      <td>60</td>\n",
       "    </tr>\n",
       "    <tr>\n",
       "      <th>9</th>\n",
       "      <td>Poland</td>\n",
       "      <td>2</td>\n",
       "      <td>15</td>\n",
       "      <td>23</td>\n",
       "      <td>39.4%</td>\n",
       "      <td>5.2%</td>\n",
       "      <td>48</td>\n",
       "    </tr>\n",
       "    <tr>\n",
       "      <th>10</th>\n",
       "      <td>Portugal</td>\n",
       "      <td>6</td>\n",
       "      <td>22</td>\n",
       "      <td>42</td>\n",
       "      <td>34.3%</td>\n",
       "      <td>9.3%</td>\n",
       "      <td>82</td>\n",
       "    </tr>\n",
       "    <tr>\n",
       "      <th>11</th>\n",
       "      <td>Republic of Ireland</td>\n",
       "      <td>1</td>\n",
       "      <td>7</td>\n",
       "      <td>12</td>\n",
       "      <td>36.8%</td>\n",
       "      <td>5.2%</td>\n",
       "      <td>28</td>\n",
       "    </tr>\n",
       "    <tr>\n",
       "      <th>12</th>\n",
       "      <td>Russia</td>\n",
       "      <td>5</td>\n",
       "      <td>9</td>\n",
       "      <td>31</td>\n",
       "      <td>22.5%</td>\n",
       "      <td>12.5%</td>\n",
       "      <td>59</td>\n",
       "    </tr>\n",
       "    <tr>\n",
       "      <th>13</th>\n",
       "      <td>Spain</td>\n",
       "      <td>12</td>\n",
       "      <td>42</td>\n",
       "      <td>33</td>\n",
       "      <td>55.9%</td>\n",
       "      <td>16.0%</td>\n",
       "      <td>100</td>\n",
       "    </tr>\n",
       "    <tr>\n",
       "      <th>14</th>\n",
       "      <td>Sweden</td>\n",
       "      <td>5</td>\n",
       "      <td>17</td>\n",
       "      <td>19</td>\n",
       "      <td>47.2%</td>\n",
       "      <td>13.8%</td>\n",
       "      <td>39</td>\n",
       "    </tr>\n",
       "    <tr>\n",
       "      <th>15</th>\n",
       "      <td>Ukraine</td>\n",
       "      <td>2</td>\n",
       "      <td>7</td>\n",
       "      <td>26</td>\n",
       "      <td>21.2%</td>\n",
       "      <td>6.0%</td>\n",
       "      <td>38</td>\n",
       "    </tr>\n",
       "  </tbody>\n",
       "</table>\n",
       "</div>"
      ],
      "text/plain": [
       "                   Team  Goals  Shots on target  Shots off target  \\\n",
       "0               Croatia      4               13                12   \n",
       "1        Czech Republic      4               13                18   \n",
       "2               Denmark      4               10                10   \n",
       "3               England      5               11                18   \n",
       "4                France      3               22                24   \n",
       "5               Germany     10               32                32   \n",
       "6                Greece      5                8                18   \n",
       "7                 Italy      6               34                45   \n",
       "8           Netherlands      2               12                36   \n",
       "9                Poland      2               15                23   \n",
       "10             Portugal      6               22                42   \n",
       "11  Republic of Ireland      1                7                12   \n",
       "12               Russia      5                9                31   \n",
       "13                Spain     12               42                33   \n",
       "14               Sweden      5               17                19   \n",
       "15              Ukraine      2                7                26   \n",
       "\n",
       "   Shooting Accuracy % Goals-to-shots  Total shots (inc. Blocked)  \n",
       "0              51.9%            16.0%                          32  \n",
       "1              41.9%            12.9%                          39  \n",
       "2              50.0%            20.0%                          27  \n",
       "3              50.0%            17.2%                          40  \n",
       "4              37.9%             6.5%                          65  \n",
       "5              47.8%            15.6%                          80  \n",
       "6              30.7%            19.2%                          32  \n",
       "7              43.0%             7.5%                         110  \n",
       "8              25.0%             4.1%                          60  \n",
       "9              39.4%             5.2%                          48  \n",
       "10             34.3%             9.3%                          82  \n",
       "11             36.8%             5.2%                          28  \n",
       "12             22.5%            12.5%                          59  \n",
       "13             55.9%            16.0%                         100  \n",
       "14             47.2%            13.8%                          39  \n",
       "15             21.2%             6.0%                          38  "
      ]
     },
     "execution_count": 26,
     "metadata": {},
     "output_type": "execute_result"
    }
   ],
   "source": [
    "euro12.iloc[:, :7]"
   ]
  },
  {
   "cell_type": "markdown",
   "id": "9d5ca6d7",
   "metadata": {},
   "source": [
    "### Step 13. Select all columns except the last 3"
   ]
  },
  {
   "cell_type": "code",
   "execution_count": 27,
   "id": "a9443f4d",
   "metadata": {},
   "outputs": [
    {
     "data": {
      "text/html": [
       "<div>\n",
       "<style scoped>\n",
       "    .dataframe tbody tr th:only-of-type {\n",
       "        vertical-align: middle;\n",
       "    }\n",
       "\n",
       "    .dataframe tbody tr th {\n",
       "        vertical-align: top;\n",
       "    }\n",
       "\n",
       "    .dataframe thead th {\n",
       "        text-align: right;\n",
       "    }\n",
       "</style>\n",
       "<table border=\"1\" class=\"dataframe\">\n",
       "  <thead>\n",
       "    <tr style=\"text-align: right;\">\n",
       "      <th></th>\n",
       "      <th>Team</th>\n",
       "      <th>Goals</th>\n",
       "      <th>Shots on target</th>\n",
       "      <th>Shots off target</th>\n",
       "      <th>Shooting Accuracy</th>\n",
       "      <th>% Goals-to-shots</th>\n",
       "      <th>Total shots (inc. Blocked)</th>\n",
       "      <th>Hit Woodwork</th>\n",
       "      <th>Penalty goals</th>\n",
       "      <th>Penalties not scored</th>\n",
       "      <th>...</th>\n",
       "      <th>Clean Sheets</th>\n",
       "      <th>Blocks</th>\n",
       "      <th>Goals conceded</th>\n",
       "      <th>Saves made</th>\n",
       "      <th>Saves-to-shots ratio</th>\n",
       "      <th>Fouls Won</th>\n",
       "      <th>Fouls Conceded</th>\n",
       "      <th>Offsides</th>\n",
       "      <th>Yellow Cards</th>\n",
       "      <th>Red Cards</th>\n",
       "    </tr>\n",
       "  </thead>\n",
       "  <tbody>\n",
       "    <tr>\n",
       "      <th>0</th>\n",
       "      <td>Croatia</td>\n",
       "      <td>4</td>\n",
       "      <td>13</td>\n",
       "      <td>12</td>\n",
       "      <td>51.9%</td>\n",
       "      <td>16.0%</td>\n",
       "      <td>32</td>\n",
       "      <td>0</td>\n",
       "      <td>0</td>\n",
       "      <td>0</td>\n",
       "      <td>...</td>\n",
       "      <td>0</td>\n",
       "      <td>10</td>\n",
       "      <td>3</td>\n",
       "      <td>13</td>\n",
       "      <td>81.3%</td>\n",
       "      <td>41</td>\n",
       "      <td>62</td>\n",
       "      <td>2</td>\n",
       "      <td>9</td>\n",
       "      <td>0</td>\n",
       "    </tr>\n",
       "    <tr>\n",
       "      <th>1</th>\n",
       "      <td>Czech Republic</td>\n",
       "      <td>4</td>\n",
       "      <td>13</td>\n",
       "      <td>18</td>\n",
       "      <td>41.9%</td>\n",
       "      <td>12.9%</td>\n",
       "      <td>39</td>\n",
       "      <td>0</td>\n",
       "      <td>0</td>\n",
       "      <td>0</td>\n",
       "      <td>...</td>\n",
       "      <td>1</td>\n",
       "      <td>10</td>\n",
       "      <td>6</td>\n",
       "      <td>9</td>\n",
       "      <td>60.1%</td>\n",
       "      <td>53</td>\n",
       "      <td>73</td>\n",
       "      <td>8</td>\n",
       "      <td>7</td>\n",
       "      <td>0</td>\n",
       "    </tr>\n",
       "    <tr>\n",
       "      <th>2</th>\n",
       "      <td>Denmark</td>\n",
       "      <td>4</td>\n",
       "      <td>10</td>\n",
       "      <td>10</td>\n",
       "      <td>50.0%</td>\n",
       "      <td>20.0%</td>\n",
       "      <td>27</td>\n",
       "      <td>1</td>\n",
       "      <td>0</td>\n",
       "      <td>0</td>\n",
       "      <td>...</td>\n",
       "      <td>1</td>\n",
       "      <td>10</td>\n",
       "      <td>5</td>\n",
       "      <td>10</td>\n",
       "      <td>66.7%</td>\n",
       "      <td>25</td>\n",
       "      <td>38</td>\n",
       "      <td>8</td>\n",
       "      <td>4</td>\n",
       "      <td>0</td>\n",
       "    </tr>\n",
       "    <tr>\n",
       "      <th>3</th>\n",
       "      <td>England</td>\n",
       "      <td>5</td>\n",
       "      <td>11</td>\n",
       "      <td>18</td>\n",
       "      <td>50.0%</td>\n",
       "      <td>17.2%</td>\n",
       "      <td>40</td>\n",
       "      <td>0</td>\n",
       "      <td>0</td>\n",
       "      <td>0</td>\n",
       "      <td>...</td>\n",
       "      <td>2</td>\n",
       "      <td>29</td>\n",
       "      <td>3</td>\n",
       "      <td>22</td>\n",
       "      <td>88.1%</td>\n",
       "      <td>43</td>\n",
       "      <td>45</td>\n",
       "      <td>6</td>\n",
       "      <td>5</td>\n",
       "      <td>0</td>\n",
       "    </tr>\n",
       "    <tr>\n",
       "      <th>4</th>\n",
       "      <td>France</td>\n",
       "      <td>3</td>\n",
       "      <td>22</td>\n",
       "      <td>24</td>\n",
       "      <td>37.9%</td>\n",
       "      <td>6.5%</td>\n",
       "      <td>65</td>\n",
       "      <td>1</td>\n",
       "      <td>0</td>\n",
       "      <td>0</td>\n",
       "      <td>...</td>\n",
       "      <td>1</td>\n",
       "      <td>7</td>\n",
       "      <td>5</td>\n",
       "      <td>6</td>\n",
       "      <td>54.6%</td>\n",
       "      <td>36</td>\n",
       "      <td>51</td>\n",
       "      <td>5</td>\n",
       "      <td>6</td>\n",
       "      <td>0</td>\n",
       "    </tr>\n",
       "    <tr>\n",
       "      <th>5</th>\n",
       "      <td>Germany</td>\n",
       "      <td>10</td>\n",
       "      <td>32</td>\n",
       "      <td>32</td>\n",
       "      <td>47.8%</td>\n",
       "      <td>15.6%</td>\n",
       "      <td>80</td>\n",
       "      <td>2</td>\n",
       "      <td>1</td>\n",
       "      <td>0</td>\n",
       "      <td>...</td>\n",
       "      <td>1</td>\n",
       "      <td>11</td>\n",
       "      <td>6</td>\n",
       "      <td>10</td>\n",
       "      <td>62.6%</td>\n",
       "      <td>63</td>\n",
       "      <td>49</td>\n",
       "      <td>12</td>\n",
       "      <td>4</td>\n",
       "      <td>0</td>\n",
       "    </tr>\n",
       "    <tr>\n",
       "      <th>6</th>\n",
       "      <td>Greece</td>\n",
       "      <td>5</td>\n",
       "      <td>8</td>\n",
       "      <td>18</td>\n",
       "      <td>30.7%</td>\n",
       "      <td>19.2%</td>\n",
       "      <td>32</td>\n",
       "      <td>1</td>\n",
       "      <td>1</td>\n",
       "      <td>1</td>\n",
       "      <td>...</td>\n",
       "      <td>1</td>\n",
       "      <td>23</td>\n",
       "      <td>7</td>\n",
       "      <td>13</td>\n",
       "      <td>65.1%</td>\n",
       "      <td>67</td>\n",
       "      <td>48</td>\n",
       "      <td>12</td>\n",
       "      <td>9</td>\n",
       "      <td>1</td>\n",
       "    </tr>\n",
       "    <tr>\n",
       "      <th>7</th>\n",
       "      <td>Italy</td>\n",
       "      <td>6</td>\n",
       "      <td>34</td>\n",
       "      <td>45</td>\n",
       "      <td>43.0%</td>\n",
       "      <td>7.5%</td>\n",
       "      <td>110</td>\n",
       "      <td>2</td>\n",
       "      <td>0</td>\n",
       "      <td>0</td>\n",
       "      <td>...</td>\n",
       "      <td>2</td>\n",
       "      <td>18</td>\n",
       "      <td>7</td>\n",
       "      <td>20</td>\n",
       "      <td>74.1%</td>\n",
       "      <td>101</td>\n",
       "      <td>89</td>\n",
       "      <td>16</td>\n",
       "      <td>16</td>\n",
       "      <td>0</td>\n",
       "    </tr>\n",
       "    <tr>\n",
       "      <th>8</th>\n",
       "      <td>Netherlands</td>\n",
       "      <td>2</td>\n",
       "      <td>12</td>\n",
       "      <td>36</td>\n",
       "      <td>25.0%</td>\n",
       "      <td>4.1%</td>\n",
       "      <td>60</td>\n",
       "      <td>2</td>\n",
       "      <td>0</td>\n",
       "      <td>0</td>\n",
       "      <td>...</td>\n",
       "      <td>0</td>\n",
       "      <td>9</td>\n",
       "      <td>5</td>\n",
       "      <td>12</td>\n",
       "      <td>70.6%</td>\n",
       "      <td>35</td>\n",
       "      <td>30</td>\n",
       "      <td>3</td>\n",
       "      <td>5</td>\n",
       "      <td>0</td>\n",
       "    </tr>\n",
       "    <tr>\n",
       "      <th>9</th>\n",
       "      <td>Poland</td>\n",
       "      <td>2</td>\n",
       "      <td>15</td>\n",
       "      <td>23</td>\n",
       "      <td>39.4%</td>\n",
       "      <td>5.2%</td>\n",
       "      <td>48</td>\n",
       "      <td>0</td>\n",
       "      <td>0</td>\n",
       "      <td>0</td>\n",
       "      <td>...</td>\n",
       "      <td>0</td>\n",
       "      <td>8</td>\n",
       "      <td>3</td>\n",
       "      <td>6</td>\n",
       "      <td>66.7%</td>\n",
       "      <td>48</td>\n",
       "      <td>56</td>\n",
       "      <td>3</td>\n",
       "      <td>7</td>\n",
       "      <td>1</td>\n",
       "    </tr>\n",
       "    <tr>\n",
       "      <th>10</th>\n",
       "      <td>Portugal</td>\n",
       "      <td>6</td>\n",
       "      <td>22</td>\n",
       "      <td>42</td>\n",
       "      <td>34.3%</td>\n",
       "      <td>9.3%</td>\n",
       "      <td>82</td>\n",
       "      <td>6</td>\n",
       "      <td>0</td>\n",
       "      <td>0</td>\n",
       "      <td>...</td>\n",
       "      <td>2</td>\n",
       "      <td>11</td>\n",
       "      <td>4</td>\n",
       "      <td>10</td>\n",
       "      <td>71.5%</td>\n",
       "      <td>73</td>\n",
       "      <td>90</td>\n",
       "      <td>10</td>\n",
       "      <td>12</td>\n",
       "      <td>0</td>\n",
       "    </tr>\n",
       "    <tr>\n",
       "      <th>11</th>\n",
       "      <td>Republic of Ireland</td>\n",
       "      <td>1</td>\n",
       "      <td>7</td>\n",
       "      <td>12</td>\n",
       "      <td>36.8%</td>\n",
       "      <td>5.2%</td>\n",
       "      <td>28</td>\n",
       "      <td>0</td>\n",
       "      <td>0</td>\n",
       "      <td>0</td>\n",
       "      <td>...</td>\n",
       "      <td>0</td>\n",
       "      <td>23</td>\n",
       "      <td>9</td>\n",
       "      <td>17</td>\n",
       "      <td>65.4%</td>\n",
       "      <td>43</td>\n",
       "      <td>51</td>\n",
       "      <td>11</td>\n",
       "      <td>6</td>\n",
       "      <td>1</td>\n",
       "    </tr>\n",
       "    <tr>\n",
       "      <th>12</th>\n",
       "      <td>Russia</td>\n",
       "      <td>5</td>\n",
       "      <td>9</td>\n",
       "      <td>31</td>\n",
       "      <td>22.5%</td>\n",
       "      <td>12.5%</td>\n",
       "      <td>59</td>\n",
       "      <td>2</td>\n",
       "      <td>0</td>\n",
       "      <td>0</td>\n",
       "      <td>...</td>\n",
       "      <td>0</td>\n",
       "      <td>8</td>\n",
       "      <td>3</td>\n",
       "      <td>10</td>\n",
       "      <td>77.0%</td>\n",
       "      <td>34</td>\n",
       "      <td>43</td>\n",
       "      <td>4</td>\n",
       "      <td>6</td>\n",
       "      <td>0</td>\n",
       "    </tr>\n",
       "    <tr>\n",
       "      <th>13</th>\n",
       "      <td>Spain</td>\n",
       "      <td>12</td>\n",
       "      <td>42</td>\n",
       "      <td>33</td>\n",
       "      <td>55.9%</td>\n",
       "      <td>16.0%</td>\n",
       "      <td>100</td>\n",
       "      <td>0</td>\n",
       "      <td>1</td>\n",
       "      <td>0</td>\n",
       "      <td>...</td>\n",
       "      <td>5</td>\n",
       "      <td>8</td>\n",
       "      <td>1</td>\n",
       "      <td>15</td>\n",
       "      <td>93.8%</td>\n",
       "      <td>102</td>\n",
       "      <td>83</td>\n",
       "      <td>19</td>\n",
       "      <td>11</td>\n",
       "      <td>0</td>\n",
       "    </tr>\n",
       "    <tr>\n",
       "      <th>14</th>\n",
       "      <td>Sweden</td>\n",
       "      <td>5</td>\n",
       "      <td>17</td>\n",
       "      <td>19</td>\n",
       "      <td>47.2%</td>\n",
       "      <td>13.8%</td>\n",
       "      <td>39</td>\n",
       "      <td>3</td>\n",
       "      <td>0</td>\n",
       "      <td>0</td>\n",
       "      <td>...</td>\n",
       "      <td>1</td>\n",
       "      <td>12</td>\n",
       "      <td>5</td>\n",
       "      <td>8</td>\n",
       "      <td>61.6%</td>\n",
       "      <td>35</td>\n",
       "      <td>51</td>\n",
       "      <td>7</td>\n",
       "      <td>7</td>\n",
       "      <td>0</td>\n",
       "    </tr>\n",
       "    <tr>\n",
       "      <th>15</th>\n",
       "      <td>Ukraine</td>\n",
       "      <td>2</td>\n",
       "      <td>7</td>\n",
       "      <td>26</td>\n",
       "      <td>21.2%</td>\n",
       "      <td>6.0%</td>\n",
       "      <td>38</td>\n",
       "      <td>0</td>\n",
       "      <td>0</td>\n",
       "      <td>0</td>\n",
       "      <td>...</td>\n",
       "      <td>0</td>\n",
       "      <td>4</td>\n",
       "      <td>4</td>\n",
       "      <td>13</td>\n",
       "      <td>76.5%</td>\n",
       "      <td>48</td>\n",
       "      <td>31</td>\n",
       "      <td>4</td>\n",
       "      <td>5</td>\n",
       "      <td>0</td>\n",
       "    </tr>\n",
       "  </tbody>\n",
       "</table>\n",
       "<p>16 rows × 32 columns</p>\n",
       "</div>"
      ],
      "text/plain": [
       "                   Team  Goals  Shots on target  Shots off target  \\\n",
       "0               Croatia      4               13                12   \n",
       "1        Czech Republic      4               13                18   \n",
       "2               Denmark      4               10                10   \n",
       "3               England      5               11                18   \n",
       "4                France      3               22                24   \n",
       "5               Germany     10               32                32   \n",
       "6                Greece      5                8                18   \n",
       "7                 Italy      6               34                45   \n",
       "8           Netherlands      2               12                36   \n",
       "9                Poland      2               15                23   \n",
       "10             Portugal      6               22                42   \n",
       "11  Republic of Ireland      1                7                12   \n",
       "12               Russia      5                9                31   \n",
       "13                Spain     12               42                33   \n",
       "14               Sweden      5               17                19   \n",
       "15              Ukraine      2                7                26   \n",
       "\n",
       "   Shooting Accuracy % Goals-to-shots  Total shots (inc. Blocked)  \\\n",
       "0              51.9%            16.0%                          32   \n",
       "1              41.9%            12.9%                          39   \n",
       "2              50.0%            20.0%                          27   \n",
       "3              50.0%            17.2%                          40   \n",
       "4              37.9%             6.5%                          65   \n",
       "5              47.8%            15.6%                          80   \n",
       "6              30.7%            19.2%                          32   \n",
       "7              43.0%             7.5%                         110   \n",
       "8              25.0%             4.1%                          60   \n",
       "9              39.4%             5.2%                          48   \n",
       "10             34.3%             9.3%                          82   \n",
       "11             36.8%             5.2%                          28   \n",
       "12             22.5%            12.5%                          59   \n",
       "13             55.9%            16.0%                         100   \n",
       "14             47.2%            13.8%                          39   \n",
       "15             21.2%             6.0%                          38   \n",
       "\n",
       "    Hit Woodwork  Penalty goals  Penalties not scored  ...  Clean Sheets  \\\n",
       "0              0              0                     0  ...             0   \n",
       "1              0              0                     0  ...             1   \n",
       "2              1              0                     0  ...             1   \n",
       "3              0              0                     0  ...             2   \n",
       "4              1              0                     0  ...             1   \n",
       "5              2              1                     0  ...             1   \n",
       "6              1              1                     1  ...             1   \n",
       "7              2              0                     0  ...             2   \n",
       "8              2              0                     0  ...             0   \n",
       "9              0              0                     0  ...             0   \n",
       "10             6              0                     0  ...             2   \n",
       "11             0              0                     0  ...             0   \n",
       "12             2              0                     0  ...             0   \n",
       "13             0              1                     0  ...             5   \n",
       "14             3              0                     0  ...             1   \n",
       "15             0              0                     0  ...             0   \n",
       "\n",
       "    Blocks  Goals conceded Saves made  Saves-to-shots ratio  Fouls Won  \\\n",
       "0       10               3         13                 81.3%         41   \n",
       "1       10               6          9                 60.1%         53   \n",
       "2       10               5         10                 66.7%         25   \n",
       "3       29               3         22                 88.1%         43   \n",
       "4        7               5          6                 54.6%         36   \n",
       "5       11               6         10                 62.6%         63   \n",
       "6       23               7         13                 65.1%         67   \n",
       "7       18               7         20                 74.1%        101   \n",
       "8        9               5         12                 70.6%         35   \n",
       "9        8               3          6                 66.7%         48   \n",
       "10      11               4         10                 71.5%         73   \n",
       "11      23               9         17                 65.4%         43   \n",
       "12       8               3         10                 77.0%         34   \n",
       "13       8               1         15                 93.8%        102   \n",
       "14      12               5          8                 61.6%         35   \n",
       "15       4               4         13                 76.5%         48   \n",
       "\n",
       "    Fouls Conceded  Offsides  Yellow Cards  Red Cards  \n",
       "0               62         2             9          0  \n",
       "1               73         8             7          0  \n",
       "2               38         8             4          0  \n",
       "3               45         6             5          0  \n",
       "4               51         5             6          0  \n",
       "5               49        12             4          0  \n",
       "6               48        12             9          1  \n",
       "7               89        16            16          0  \n",
       "8               30         3             5          0  \n",
       "9               56         3             7          1  \n",
       "10              90        10            12          0  \n",
       "11              51        11             6          1  \n",
       "12              43         4             6          0  \n",
       "13              83        19            11          0  \n",
       "14              51         7             7          0  \n",
       "15              31         4             5          0  \n",
       "\n",
       "[16 rows x 32 columns]"
      ]
     },
     "execution_count": 27,
     "metadata": {},
     "output_type": "execute_result"
    }
   ],
   "source": [
    "euro12.iloc[:, :-3]"
   ]
  },
  {
   "cell_type": "markdown",
   "id": "82fe7601",
   "metadata": {},
   "source": [
    "### Step 14. Present only the Shooting Accuracy from England, Italy and Russia"
   ]
  },
  {
   "cell_type": "code",
   "execution_count": 28,
   "id": "2126696a",
   "metadata": {},
   "outputs": [
    {
     "data": {
      "text/html": [
       "<div>\n",
       "<style scoped>\n",
       "    .dataframe tbody tr th:only-of-type {\n",
       "        vertical-align: middle;\n",
       "    }\n",
       "\n",
       "    .dataframe tbody tr th {\n",
       "        vertical-align: top;\n",
       "    }\n",
       "\n",
       "    .dataframe thead th {\n",
       "        text-align: right;\n",
       "    }\n",
       "</style>\n",
       "<table border=\"1\" class=\"dataframe\">\n",
       "  <thead>\n",
       "    <tr style=\"text-align: right;\">\n",
       "      <th></th>\n",
       "      <th>Team</th>\n",
       "      <th>Shooting Accuracy</th>\n",
       "    </tr>\n",
       "  </thead>\n",
       "  <tbody>\n",
       "    <tr>\n",
       "      <th>3</th>\n",
       "      <td>England</td>\n",
       "      <td>50.0%</td>\n",
       "    </tr>\n",
       "    <tr>\n",
       "      <th>7</th>\n",
       "      <td>Italy</td>\n",
       "      <td>43.0%</td>\n",
       "    </tr>\n",
       "    <tr>\n",
       "      <th>12</th>\n",
       "      <td>Russia</td>\n",
       "      <td>22.5%</td>\n",
       "    </tr>\n",
       "  </tbody>\n",
       "</table>\n",
       "</div>"
      ],
      "text/plain": [
       "       Team Shooting Accuracy\n",
       "3   England             50.0%\n",
       "7     Italy             43.0%\n",
       "12   Russia             22.5%"
      ]
     },
     "execution_count": 28,
     "metadata": {},
     "output_type": "execute_result"
    }
   ],
   "source": [
    "euro12.loc[euro12['Team'].isin(['England', 'Italy', 'Russia']), ['Team', 'Shooting Accuracy']]"
   ]
  },
  {
   "cell_type": "markdown",
   "id": "13907517",
   "metadata": {},
   "source": [
    "# Question 3:\n",
    "\n",
    "### Step 1. Import the necessary libraries"
   ]
  },
  {
   "cell_type": "code",
   "execution_count": 29,
   "id": "8cf3d6bc",
   "metadata": {},
   "outputs": [],
   "source": [
    "import pandas as pd\n",
    "import numpy as np"
   ]
  },
  {
   "cell_type": "markdown",
   "id": "cffd5405",
   "metadata": {},
   "source": [
    "### Step 2. Create 3 different Series, each of length 100, as follows:"
   ]
  },
  {
   "cell_type": "code",
   "execution_count": 30,
   "id": "38044b4f",
   "metadata": {},
   "outputs": [],
   "source": [
    "# Create the first series\n",
    "series1 = pd.Series(np.random.randint(1, 5, size=100))\n",
    "\n",
    "# Create the second series\n",
    "series2 = pd.Series(np.random.randint(1, 4, size=100))\n",
    "\n",
    "# Create the third series\n",
    "series3 = pd.Series(np.random.randint(10000, 30001, size=100))"
   ]
  },
  {
   "cell_type": "markdown",
   "id": "8fbd79d9",
   "metadata": {},
   "source": [
    "### Step 3. Create a DataFrame by joining the Series by column"
   ]
  },
  {
   "cell_type": "code",
   "execution_count": 31,
   "id": "68297fa4",
   "metadata": {},
   "outputs": [],
   "source": [
    "# Combine the three series to create a DataFrame\n",
    "df = pd.concat([series1, series2, series3], axis=1)"
   ]
  },
  {
   "cell_type": "markdown",
   "id": "f3010681",
   "metadata": {},
   "source": [
    "### Step 4. Change the name of the columns to bedrs, bathrs, price_sqr_meter"
   ]
  },
  {
   "cell_type": "code",
   "execution_count": 32,
   "id": "bbd42d4c",
   "metadata": {},
   "outputs": [],
   "source": [
    "# Rename the columns\n",
    "df.columns = ['bedrs', 'bathrs', 'price_sqr_meter']"
   ]
  },
  {
   "cell_type": "markdown",
   "id": "efc2ccd5",
   "metadata": {},
   "source": [
    "### Step 5. Create a one column DataFrame with the values of the 3 Series and assign it to 'bigcolumn'"
   ]
  },
  {
   "cell_type": "code",
   "execution_count": 33,
   "id": "df4e395a",
   "metadata": {},
   "outputs": [],
   "source": [
    "# Combine the three series into a single series\n",
    "bigseries = pd.concat([series1, series2, series3], axis=0)\n",
    "\n",
    "# Convert the series into a DataFrame with a single column\n",
    "bigcolumn = pd.DataFrame(bigseries)\n",
    "\n",
    "# Reset the index\n",
    "bigcolumn.reset_index(drop=True, inplace=True)"
   ]
  },
  {
   "cell_type": "markdown",
   "id": "478fd010",
   "metadata": {},
   "source": [
    "### Step 6. Check if it is going only until index 99"
   ]
  },
  {
   "cell_type": "code",
   "execution_count": 34,
   "id": "651a10e2",
   "metadata": {},
   "outputs": [
    {
     "name": "stdout",
     "output_type": "stream",
     "text": [
      "299\n"
     ]
    }
   ],
   "source": [
    "# Check the last index\n",
    "print(bigcolumn.index.max())"
   ]
  },
  {
   "cell_type": "markdown",
   "id": "ff4f8d12",
   "metadata": {},
   "source": [
    "### Step 7. Reindex the DataFrame so it goes from 0 to 299"
   ]
  },
  {
   "cell_type": "code",
   "execution_count": 35,
   "id": "d658f153",
   "metadata": {},
   "outputs": [
    {
     "name": "stdout",
     "output_type": "stream",
     "text": [
      "   bedrs  bathrs  price_sqr_meter\n",
      "0    3.0     1.0          25765.0\n",
      "1    3.0     1.0          11120.0\n",
      "2    1.0     1.0          27228.0\n",
      "3    1.0     1.0          23074.0\n",
      "4    2.0     3.0          27392.0\n",
      "5    3.0     3.0          14064.0\n",
      "6    3.0     2.0          12735.0\n",
      "7    2.0     3.0          12565.0\n",
      "8    1.0     1.0          22447.0\n",
      "9    3.0     1.0          14285.0\n"
     ]
    }
   ],
   "source": [
    "# Reindex the DataFrame\n",
    "df_reindexed = df.reindex(range(300))\n",
    "\n",
    "# View the first 10 rows of the reindexed DataFrame\n",
    "print(df_reindexed.head(10))"
   ]
  },
  {
   "cell_type": "markdown",
   "id": "c8ccc40b",
   "metadata": {},
   "source": [
    "# Question 4:\n",
    "\n",
    "### Step 1. Import the necessary libraries"
   ]
  },
  {
   "cell_type": "code",
   "execution_count": 53,
   "id": "c7369159",
   "metadata": {},
   "outputs": [],
   "source": [
    "import pandas as pd\n",
    "import numpy as np\n",
    "from datetime import datetime"
   ]
  },
  {
   "cell_type": "markdown",
   "id": "b5ec04d3",
   "metadata": {},
   "source": [
    "### Step 2. Import the dataset from the attached file wind.txt"
   ]
  },
  {
   "cell_type": "code",
   "execution_count": 54,
   "id": "8d630996",
   "metadata": {},
   "outputs": [
    {
     "data": {
      "text/html": [
       "<div>\n",
       "<style scoped>\n",
       "    .dataframe tbody tr th:only-of-type {\n",
       "        vertical-align: middle;\n",
       "    }\n",
       "\n",
       "    .dataframe tbody tr th {\n",
       "        vertical-align: top;\n",
       "    }\n",
       "\n",
       "    .dataframe thead th {\n",
       "        text-align: right;\n",
       "    }\n",
       "</style>\n",
       "<table border=\"1\" class=\"dataframe\">\n",
       "  <thead>\n",
       "    <tr style=\"text-align: right;\">\n",
       "      <th></th>\n",
       "      <th>Yr_Mo_Dy</th>\n",
       "      <th>RPT</th>\n",
       "      <th>VAL</th>\n",
       "      <th>ROS</th>\n",
       "      <th>KIL</th>\n",
       "      <th>SHA</th>\n",
       "      <th>BIR</th>\n",
       "      <th>DUB</th>\n",
       "      <th>CLA</th>\n",
       "      <th>MUL</th>\n",
       "      <th>CLO</th>\n",
       "      <th>BEL</th>\n",
       "      <th>MAL</th>\n",
       "    </tr>\n",
       "  </thead>\n",
       "  <tbody>\n",
       "    <tr>\n",
       "      <th>0</th>\n",
       "      <td>2061-01-01</td>\n",
       "      <td>15.04</td>\n",
       "      <td>14.96</td>\n",
       "      <td>13.17</td>\n",
       "      <td>9.29</td>\n",
       "      <td>NaN</td>\n",
       "      <td>9.87</td>\n",
       "      <td>13.67</td>\n",
       "      <td>10.25</td>\n",
       "      <td>10.83</td>\n",
       "      <td>12.58</td>\n",
       "      <td>18.50</td>\n",
       "      <td>15.04</td>\n",
       "    </tr>\n",
       "    <tr>\n",
       "      <th>1</th>\n",
       "      <td>2061-01-02</td>\n",
       "      <td>14.71</td>\n",
       "      <td>NaN</td>\n",
       "      <td>10.83</td>\n",
       "      <td>6.50</td>\n",
       "      <td>12.62</td>\n",
       "      <td>7.67</td>\n",
       "      <td>11.50</td>\n",
       "      <td>10.04</td>\n",
       "      <td>9.79</td>\n",
       "      <td>9.67</td>\n",
       "      <td>17.54</td>\n",
       "      <td>13.83</td>\n",
       "    </tr>\n",
       "    <tr>\n",
       "      <th>2</th>\n",
       "      <td>2061-01-03</td>\n",
       "      <td>18.50</td>\n",
       "      <td>16.88</td>\n",
       "      <td>12.33</td>\n",
       "      <td>10.13</td>\n",
       "      <td>11.17</td>\n",
       "      <td>6.17</td>\n",
       "      <td>11.25</td>\n",
       "      <td>NaN</td>\n",
       "      <td>8.50</td>\n",
       "      <td>7.67</td>\n",
       "      <td>12.75</td>\n",
       "      <td>12.71</td>\n",
       "    </tr>\n",
       "    <tr>\n",
       "      <th>3</th>\n",
       "      <td>2061-01-04</td>\n",
       "      <td>10.58</td>\n",
       "      <td>6.63</td>\n",
       "      <td>11.75</td>\n",
       "      <td>4.58</td>\n",
       "      <td>4.54</td>\n",
       "      <td>2.88</td>\n",
       "      <td>8.63</td>\n",
       "      <td>1.79</td>\n",
       "      <td>5.83</td>\n",
       "      <td>5.88</td>\n",
       "      <td>5.46</td>\n",
       "      <td>10.88</td>\n",
       "    </tr>\n",
       "    <tr>\n",
       "      <th>4</th>\n",
       "      <td>2061-01-05</td>\n",
       "      <td>13.33</td>\n",
       "      <td>13.25</td>\n",
       "      <td>11.42</td>\n",
       "      <td>6.17</td>\n",
       "      <td>10.71</td>\n",
       "      <td>8.21</td>\n",
       "      <td>11.92</td>\n",
       "      <td>6.54</td>\n",
       "      <td>10.92</td>\n",
       "      <td>10.34</td>\n",
       "      <td>12.92</td>\n",
       "      <td>11.83</td>\n",
       "    </tr>\n",
       "  </tbody>\n",
       "</table>\n",
       "</div>"
      ],
      "text/plain": [
       "    Yr_Mo_Dy    RPT    VAL    ROS    KIL    SHA   BIR    DUB    CLA    MUL  \\\n",
       "0 2061-01-01  15.04  14.96  13.17   9.29    NaN  9.87  13.67  10.25  10.83   \n",
       "1 2061-01-02  14.71    NaN  10.83   6.50  12.62  7.67  11.50  10.04   9.79   \n",
       "2 2061-01-03  18.50  16.88  12.33  10.13  11.17  6.17  11.25    NaN   8.50   \n",
       "3 2061-01-04  10.58   6.63  11.75   4.58   4.54  2.88   8.63   1.79   5.83   \n",
       "4 2061-01-05  13.33  13.25  11.42   6.17  10.71  8.21  11.92   6.54  10.92   \n",
       "\n",
       "     CLO    BEL    MAL  \n",
       "0  12.58  18.50  15.04  \n",
       "1   9.67  17.54  13.83  \n",
       "2   7.67  12.75  12.71  \n",
       "3   5.88   5.46  10.88  \n",
       "4  10.34  12.92  11.83  "
      ]
     },
     "execution_count": 54,
     "metadata": {},
     "output_type": "execute_result"
    }
   ],
   "source": [
    "filename = 'wind.txt'\n",
    "data=pd.read_csv('wind.txt',sep=\"\\s+\",parse_dates=[[0,1,2]])\n",
    "data.head()"
   ]
  },
  {
   "cell_type": "markdown",
   "id": "d94cb767",
   "metadata": {},
   "source": [
    "### Step 3. Assign it to a variable called data and replace the first 3 columns by a proper datetime index."
   ]
  },
  {
   "cell_type": "code",
   "execution_count": 55,
   "id": "a2275a79",
   "metadata": {},
   "outputs": [
    {
     "data": {
      "text/html": [
       "<div>\n",
       "<style scoped>\n",
       "    .dataframe tbody tr th:only-of-type {\n",
       "        vertical-align: middle;\n",
       "    }\n",
       "\n",
       "    .dataframe tbody tr th {\n",
       "        vertical-align: top;\n",
       "    }\n",
       "\n",
       "    .dataframe thead th {\n",
       "        text-align: right;\n",
       "    }\n",
       "</style>\n",
       "<table border=\"1\" class=\"dataframe\">\n",
       "  <thead>\n",
       "    <tr style=\"text-align: right;\">\n",
       "      <th></th>\n",
       "      <th>RPT</th>\n",
       "      <th>VAL</th>\n",
       "      <th>ROS</th>\n",
       "      <th>KIL</th>\n",
       "      <th>SHA</th>\n",
       "      <th>BIR</th>\n",
       "      <th>DUB</th>\n",
       "      <th>CLA</th>\n",
       "      <th>MUL</th>\n",
       "      <th>CLO</th>\n",
       "      <th>BEL</th>\n",
       "      <th>MAL</th>\n",
       "    </tr>\n",
       "    <tr>\n",
       "      <th>date</th>\n",
       "      <th></th>\n",
       "      <th></th>\n",
       "      <th></th>\n",
       "      <th></th>\n",
       "      <th></th>\n",
       "      <th></th>\n",
       "      <th></th>\n",
       "      <th></th>\n",
       "      <th></th>\n",
       "      <th></th>\n",
       "      <th></th>\n",
       "      <th></th>\n",
       "    </tr>\n",
       "  </thead>\n",
       "  <tbody>\n",
       "    <tr>\n",
       "      <th>2061-01-01</th>\n",
       "      <td>15.04</td>\n",
       "      <td>14.96</td>\n",
       "      <td>13.17</td>\n",
       "      <td>9.29</td>\n",
       "      <td>NaN</td>\n",
       "      <td>9.87</td>\n",
       "      <td>13.67</td>\n",
       "      <td>10.25</td>\n",
       "      <td>10.83</td>\n",
       "      <td>12.58</td>\n",
       "      <td>18.50</td>\n",
       "      <td>15.04</td>\n",
       "    </tr>\n",
       "    <tr>\n",
       "      <th>2061-01-02</th>\n",
       "      <td>14.71</td>\n",
       "      <td>NaN</td>\n",
       "      <td>10.83</td>\n",
       "      <td>6.50</td>\n",
       "      <td>12.62</td>\n",
       "      <td>7.67</td>\n",
       "      <td>11.50</td>\n",
       "      <td>10.04</td>\n",
       "      <td>9.79</td>\n",
       "      <td>9.67</td>\n",
       "      <td>17.54</td>\n",
       "      <td>13.83</td>\n",
       "    </tr>\n",
       "    <tr>\n",
       "      <th>2061-01-03</th>\n",
       "      <td>18.50</td>\n",
       "      <td>16.88</td>\n",
       "      <td>12.33</td>\n",
       "      <td>10.13</td>\n",
       "      <td>11.17</td>\n",
       "      <td>6.17</td>\n",
       "      <td>11.25</td>\n",
       "      <td>NaN</td>\n",
       "      <td>8.50</td>\n",
       "      <td>7.67</td>\n",
       "      <td>12.75</td>\n",
       "      <td>12.71</td>\n",
       "    </tr>\n",
       "    <tr>\n",
       "      <th>2061-01-04</th>\n",
       "      <td>10.58</td>\n",
       "      <td>6.63</td>\n",
       "      <td>11.75</td>\n",
       "      <td>4.58</td>\n",
       "      <td>4.54</td>\n",
       "      <td>2.88</td>\n",
       "      <td>8.63</td>\n",
       "      <td>1.79</td>\n",
       "      <td>5.83</td>\n",
       "      <td>5.88</td>\n",
       "      <td>5.46</td>\n",
       "      <td>10.88</td>\n",
       "    </tr>\n",
       "    <tr>\n",
       "      <th>2061-01-05</th>\n",
       "      <td>13.33</td>\n",
       "      <td>13.25</td>\n",
       "      <td>11.42</td>\n",
       "      <td>6.17</td>\n",
       "      <td>10.71</td>\n",
       "      <td>8.21</td>\n",
       "      <td>11.92</td>\n",
       "      <td>6.54</td>\n",
       "      <td>10.92</td>\n",
       "      <td>10.34</td>\n",
       "      <td>12.92</td>\n",
       "      <td>11.83</td>\n",
       "    </tr>\n",
       "  </tbody>\n",
       "</table>\n",
       "</div>"
      ],
      "text/plain": [
       "              RPT    VAL    ROS    KIL    SHA   BIR    DUB    CLA    MUL  \\\n",
       "date                                                                       \n",
       "2061-01-01  15.04  14.96  13.17   9.29    NaN  9.87  13.67  10.25  10.83   \n",
       "2061-01-02  14.71    NaN  10.83   6.50  12.62  7.67  11.50  10.04   9.79   \n",
       "2061-01-03  18.50  16.88  12.33  10.13  11.17  6.17  11.25    NaN   8.50   \n",
       "2061-01-04  10.58   6.63  11.75   4.58   4.54  2.88   8.63   1.79   5.83   \n",
       "2061-01-05  13.33  13.25  11.42   6.17  10.71  8.21  11.92   6.54  10.92   \n",
       "\n",
       "              CLO    BEL    MAL  \n",
       "date                             \n",
       "2061-01-01  12.58  18.50  15.04  \n",
       "2061-01-02   9.67  17.54  13.83  \n",
       "2061-01-03   7.67  12.75  12.71  \n",
       "2061-01-04   5.88   5.46  10.88  \n",
       "2061-01-05  10.34  12.92  11.83  "
      ]
     },
     "execution_count": 55,
     "metadata": {},
     "output_type": "execute_result"
    }
   ],
   "source": [
    "data.columns = ['date', 'RPT', 'VAL', 'ROS', 'KIL', 'SHA', 'BIR',\n",
    "                'DUB', 'CLA', 'MUL', 'CLO', 'BEL', 'MAL']\n",
    "\n",
    "data['date'] = pd.to_datetime(data['date'])\n",
    "data.set_index('date', inplace=True)\n",
    "\n",
    "data.head()"
   ]
  },
  {
   "cell_type": "markdown",
   "id": "0940e65a",
   "metadata": {},
   "source": [
    "### Step 4: Year 2061? Do we really have data from this year? Create a function to fix it and apply it."
   ]
  },
  {
   "cell_type": "code",
   "execution_count": 59,
   "id": "303833e8",
   "metadata": {},
   "outputs": [
    {
     "data": {
      "text/html": [
       "<div>\n",
       "<style scoped>\n",
       "    .dataframe tbody tr th:only-of-type {\n",
       "        vertical-align: middle;\n",
       "    }\n",
       "\n",
       "    .dataframe tbody tr th {\n",
       "        vertical-align: top;\n",
       "    }\n",
       "\n",
       "    .dataframe thead th {\n",
       "        text-align: right;\n",
       "    }\n",
       "</style>\n",
       "<table border=\"1\" class=\"dataframe\">\n",
       "  <thead>\n",
       "    <tr style=\"text-align: right;\">\n",
       "      <th></th>\n",
       "      <th>RPT</th>\n",
       "      <th>VAL</th>\n",
       "      <th>ROS</th>\n",
       "      <th>KIL</th>\n",
       "      <th>SHA</th>\n",
       "      <th>BIR</th>\n",
       "      <th>DUB</th>\n",
       "      <th>CLA</th>\n",
       "      <th>MUL</th>\n",
       "      <th>CLO</th>\n",
       "      <th>BEL</th>\n",
       "      <th>MAL</th>\n",
       "    </tr>\n",
       "    <tr>\n",
       "      <th>date</th>\n",
       "      <th></th>\n",
       "      <th></th>\n",
       "      <th></th>\n",
       "      <th></th>\n",
       "      <th></th>\n",
       "      <th></th>\n",
       "      <th></th>\n",
       "      <th></th>\n",
       "      <th></th>\n",
       "      <th></th>\n",
       "      <th></th>\n",
       "      <th></th>\n",
       "    </tr>\n",
       "  </thead>\n",
       "  <tbody>\n",
       "    <tr>\n",
       "      <th>2061-01-01</th>\n",
       "      <td>15.04</td>\n",
       "      <td>14.96</td>\n",
       "      <td>13.17</td>\n",
       "      <td>9.29</td>\n",
       "      <td>NaN</td>\n",
       "      <td>9.87</td>\n",
       "      <td>13.67</td>\n",
       "      <td>10.25</td>\n",
       "      <td>10.83</td>\n",
       "      <td>12.58</td>\n",
       "      <td>18.50</td>\n",
       "      <td>15.04</td>\n",
       "    </tr>\n",
       "    <tr>\n",
       "      <th>2061-01-02</th>\n",
       "      <td>14.71</td>\n",
       "      <td>NaN</td>\n",
       "      <td>10.83</td>\n",
       "      <td>6.50</td>\n",
       "      <td>12.62</td>\n",
       "      <td>7.67</td>\n",
       "      <td>11.50</td>\n",
       "      <td>10.04</td>\n",
       "      <td>9.79</td>\n",
       "      <td>9.67</td>\n",
       "      <td>17.54</td>\n",
       "      <td>13.83</td>\n",
       "    </tr>\n",
       "    <tr>\n",
       "      <th>2061-01-03</th>\n",
       "      <td>18.50</td>\n",
       "      <td>16.88</td>\n",
       "      <td>12.33</td>\n",
       "      <td>10.13</td>\n",
       "      <td>11.17</td>\n",
       "      <td>6.17</td>\n",
       "      <td>11.25</td>\n",
       "      <td>NaN</td>\n",
       "      <td>8.50</td>\n",
       "      <td>7.67</td>\n",
       "      <td>12.75</td>\n",
       "      <td>12.71</td>\n",
       "    </tr>\n",
       "    <tr>\n",
       "      <th>2061-01-04</th>\n",
       "      <td>10.58</td>\n",
       "      <td>6.63</td>\n",
       "      <td>11.75</td>\n",
       "      <td>4.58</td>\n",
       "      <td>4.54</td>\n",
       "      <td>2.88</td>\n",
       "      <td>8.63</td>\n",
       "      <td>1.79</td>\n",
       "      <td>5.83</td>\n",
       "      <td>5.88</td>\n",
       "      <td>5.46</td>\n",
       "      <td>10.88</td>\n",
       "    </tr>\n",
       "    <tr>\n",
       "      <th>2061-01-05</th>\n",
       "      <td>13.33</td>\n",
       "      <td>13.25</td>\n",
       "      <td>11.42</td>\n",
       "      <td>6.17</td>\n",
       "      <td>10.71</td>\n",
       "      <td>8.21</td>\n",
       "      <td>11.92</td>\n",
       "      <td>6.54</td>\n",
       "      <td>10.92</td>\n",
       "      <td>10.34</td>\n",
       "      <td>12.92</td>\n",
       "      <td>11.83</td>\n",
       "    </tr>\n",
       "  </tbody>\n",
       "</table>\n",
       "</div>"
      ],
      "text/plain": [
       "              RPT    VAL    ROS    KIL    SHA   BIR    DUB    CLA    MUL  \\\n",
       "date                                                                       \n",
       "2061-01-01  15.04  14.96  13.17   9.29    NaN  9.87  13.67  10.25  10.83   \n",
       "2061-01-02  14.71    NaN  10.83   6.50  12.62  7.67  11.50  10.04   9.79   \n",
       "2061-01-03  18.50  16.88  12.33  10.13  11.17  6.17  11.25    NaN   8.50   \n",
       "2061-01-04  10.58   6.63  11.75   4.58   4.54  2.88   8.63   1.79   5.83   \n",
       "2061-01-05  13.33  13.25  11.42   6.17  10.71  8.21  11.92   6.54  10.92   \n",
       "\n",
       "              CLO    BEL    MAL  \n",
       "date                             \n",
       "2061-01-01  12.58  18.50  15.04  \n",
       "2061-01-02   9.67  17.54  13.83  \n",
       "2061-01-03   7.67  12.75  12.71  \n",
       "2061-01-04   5.88   5.46  10.88  \n",
       "2061-01-05  10.34  12.92  11.83  "
      ]
     },
     "execution_count": 59,
     "metadata": {},
     "output_type": "execute_result"
    }
   ],
   "source": [
    "def fix_year(date):\n",
    "    year = date.year - 100 if date.year > 1989 else date.year\n",
    "    return datetime.datetime(year, date.month, date.day)\n",
    "\n",
    "data.head()"
   ]
  },
  {
   "cell_type": "markdown",
   "id": "28a2e8f4",
   "metadata": {},
   "source": [
    "### Step 5: Set the right dates as the index. Pay attention at the data type, it should be datetime64[ns].\n",
    "\n",
    "### The index has already been set in Step 3."
   ]
  },
  {
   "cell_type": "markdown",
   "id": "b6e91e37",
   "metadata": {},
   "source": [
    "### Step 6: Compute how many values are missing for each location over the entire record. They should be ignored in all calculations below."
   ]
  },
  {
   "cell_type": "code",
   "execution_count": 60,
   "id": "dff3205f",
   "metadata": {},
   "outputs": [
    {
     "name": "stdout",
     "output_type": "stream",
     "text": [
      "Number of missing values for each location:\n",
      "RPT    6\n",
      "VAL    3\n",
      "ROS    2\n",
      "KIL    5\n",
      "SHA    2\n",
      "BIR    0\n",
      "DUB    3\n",
      "CLA    2\n",
      "MUL    3\n",
      "CLO    1\n",
      "BEL    0\n",
      "MAL    4\n",
      "dtype: int64\n"
     ]
    }
   ],
   "source": [
    "print(\"Number of missing values for each location:\")\n",
    "print(data.isnull().sum())"
   ]
  },
  {
   "cell_type": "markdown",
   "id": "0cce4c91",
   "metadata": {},
   "source": [
    "### Step 7: Compute how many non-missing values there are in total."
   ]
  },
  {
   "cell_type": "code",
   "execution_count": 61,
   "id": "a1dea6f6",
   "metadata": {},
   "outputs": [
    {
     "name": "stdout",
     "output_type": "stream",
     "text": [
      "Total number of non-missing values:\n",
      "78857\n"
     ]
    }
   ],
   "source": [
    "print(\"Total number of non-missing values:\")\n",
    "print(data.notnull().sum().sum())"
   ]
  },
  {
   "cell_type": "markdown",
   "id": "e0485f35",
   "metadata": {},
   "source": [
    "### Step 8: Calculate the mean windspeeds of the windspeeds over all the locations and all the times. A single number for the entire dataset."
   ]
  },
  {
   "cell_type": "code",
   "execution_count": 62,
   "id": "d4e8c576",
   "metadata": {},
   "outputs": [
    {
     "name": "stdout",
     "output_type": "stream",
     "text": [
      "Mean windspeed over all locations and times:\n",
      "10.227982360836924\n"
     ]
    }
   ],
   "source": [
    "print(\"Mean windspeed over all locations and times:\")\n",
    "print(data.mean().mean())"
   ]
  },
  {
   "cell_type": "markdown",
   "id": "783d4d74",
   "metadata": {},
   "source": [
    "### Step 9: Create a DataFrame called loc_stats and calculate the min, max and mean windspeeds and standard deviations of the windspeeds at each location over all the days. A different set of numbers for each location."
   ]
  },
  {
   "cell_type": "code",
   "execution_count": 63,
   "id": "ade71254",
   "metadata": {},
   "outputs": [
    {
     "name": "stdout",
     "output_type": "stream",
     "text": [
      "Statistics for each location:\n",
      "      min    max       mean       std\n",
      "RPT  0.67  35.80  12.362987  5.618413\n",
      "VAL  0.21  33.37  10.644314  5.267356\n",
      "ROS  1.50  33.84  11.660526  5.008450\n",
      "KIL  0.00  28.46   6.306468  3.605811\n",
      "SHA  0.13  37.54  10.455834  4.936125\n",
      "BIR  0.00  26.16   7.092254  3.968683\n",
      "DUB  0.00  30.37   9.797343  4.977555\n",
      "CLA  0.00  31.08   8.495053  4.499449\n",
      "MUL  0.00  25.88   8.493590  4.166872\n",
      "CLO  0.04  28.21   8.707332  4.503954\n",
      "BEL  0.13  42.38  13.121007  5.835037\n",
      "MAL  0.67  42.54  15.599079  6.699794\n"
     ]
    }
   ],
   "source": [
    "loc_stats = pd.DataFrame()\n",
    "loc_stats['min'] = data.min()\n",
    "loc_stats['max'] = data.max()\n",
    "loc_stats['mean'] = data.mean()\n",
    "loc_stats['std'] = data.std()\n",
    "\n",
    "print(\"Statistics for each location:\")\n",
    "print(loc_stats)"
   ]
  },
  {
   "cell_type": "markdown",
   "id": "8f600092",
   "metadata": {},
   "source": [
    "### Step 10: Create a DataFrame called day_stats and calculate the min, max and mean windspeed and standard deviations of the windspeeds across all the locations at each day. A different set of numbers for each day."
   ]
  },
  {
   "cell_type": "code",
   "execution_count": 64,
   "id": "d02edcae",
   "metadata": {},
   "outputs": [
    {
     "name": "stdout",
     "output_type": "stream",
     "text": [
      "Statistics for each day:\n",
      "             min    max       mean       std\n",
      "date                                        \n",
      "2061-01-01  9.29  18.50  13.018182  2.808875\n",
      "2061-01-02  6.50  17.54  11.336364  3.188994\n",
      "2061-01-03  6.17  18.50  11.641818  3.681912\n",
      "2061-01-04  1.79  11.75   6.619167  3.198126\n",
      "2061-01-05  6.17  13.33  10.630000  2.445356\n",
      "...          ...    ...        ...       ...\n",
      "1978-12-27  8.08  40.08  16.708333  7.868076\n",
      "1978-12-28  5.00  41.46  15.150000  9.687857\n",
      "1978-12-29  8.71  29.58  14.890000  5.756836\n",
      "1978-12-30  9.13  28.79  15.367500  5.540437\n",
      "1978-12-31  9.59  27.29  15.402500  5.702483\n",
      "\n",
      "[6574 rows x 4 columns]\n"
     ]
    }
   ],
   "source": [
    "day_stats = pd.DataFrame()\n",
    "day_stats['min'] = data.min(axis=1)\n",
    "day_stats['max'] = data.max(axis=1)\n",
    "day_stats['mean'] = data.mean(axis=1)\n",
    "day_stats['std'] = data.std(axis=1)\n",
    "\n",
    "print(\"Statistics for each day:\")\n",
    "print(day_stats)"
   ]
  },
  {
   "cell_type": "markdown",
   "id": "5a87467a",
   "metadata": {},
   "source": [
    "### Step 11: Find the average windspeed in January for each location. Treat January 1961 and January 1962 both as January."
   ]
  },
  {
   "cell_type": "code",
   "execution_count": 65,
   "id": "64a8dcc3",
   "metadata": {},
   "outputs": [
    {
     "name": "stdout",
     "output_type": "stream",
     "text": [
      "Average windspeed in January for each location:\n",
      "RPT    14.847325\n",
      "VAL    12.914560\n",
      "ROS    13.299624\n",
      "KIL     7.199498\n",
      "SHA    11.667734\n",
      "BIR     8.054839\n",
      "DUB    11.819355\n",
      "CLA     9.512047\n",
      "MUL     9.543208\n",
      "CLO    10.053566\n",
      "BEL    14.550520\n",
      "MAL    18.028763\n",
      "dtype: float64\n"
     ]
    }
   ],
   "source": [
    "january_data = data[data.index.month == 1]\n",
    "january_means = january_data.mean()\n",
    "print(\"Average windspeed in January for each location:\")\n",
    "print(january_means)"
   ]
  },
  {
   "cell_type": "markdown",
   "id": "b4de0832",
   "metadata": {},
   "source": [
    "### Step 12: Downsample the record to a yearly frequency for each location."
   ]
  },
  {
   "cell_type": "code",
   "execution_count": 66,
   "id": "4ca0d025",
   "metadata": {},
   "outputs": [
    {
     "name": "stdout",
     "output_type": "stream",
     "text": [
      "Yearly windspeed data for each location:\n",
      "                  RPT        VAL        ROS       KIL        SHA       BIR  \\\n",
      "date                                                                         \n",
      "1973-01-01  11.828466  10.680493  10.680493  5.547863   9.640877  6.548740   \n",
      "1974-01-01  13.643096  11.811781  12.336356  6.427041  11.110986  6.809781   \n",
      "1975-01-01  12.008575  10.293836  11.564712  5.269096   9.190082  5.668521   \n",
      "1976-01-01  11.737842  10.203115  10.761230  5.109426   8.846339  6.311038   \n",
      "1977-01-01  13.099616  11.144493  12.627836  6.073945  10.003836  8.586438   \n",
      "...               ...        ...        ...       ...        ...       ...   \n",
      "2068-01-01  11.835628  10.468197  11.409754  6.477678  10.760765  6.067322   \n",
      "2069-01-01  11.166356   9.723699  10.902000  5.767973   9.873918  6.189973   \n",
      "2070-01-01  12.600329  10.726932  11.730247  6.217178  10.567370  7.609452   \n",
      "2071-01-01  11.273123   9.095178  11.088329  5.241507   9.440329  6.097151   \n",
      "2072-01-01  12.463962  10.561311  12.058333  5.929699   9.430410  6.358825   \n",
      "\n",
      "                  DUB       CLA       MUL       CLO        BEL        MAL  \n",
      "date                                                                       \n",
      "1973-01-01   8.482110  7.614274  8.245534  7.812411  12.169699  15.441096  \n",
      "1974-01-01  10.084603  9.896986  9.331753  8.736356  13.252959  16.947671  \n",
      "1975-01-01   8.562603  7.843836  8.797945  7.382822  12.631671  15.307863  \n",
      "1976-01-01   9.149126  7.146202  8.883716  7.883087  12.332377  15.471448  \n",
      "1977-01-01  11.523205  8.378384  9.098192  8.821616  13.459068  16.590849  \n",
      "...               ...       ...       ...       ...        ...        ...  \n",
      "2068-01-01   8.859180  8.255519  7.224945  7.832978  12.808634  15.017486  \n",
      "2069-01-01   8.564493  7.711397  7.924521  7.754384  12.621233  15.762904  \n",
      "2070-01-01   9.609890  8.334630  9.297616  8.289808  13.183644  16.456027  \n",
      "2071-01-01   8.385890  6.757315  7.915370  7.229753  12.208932  15.025233  \n",
      "2072-01-01   9.704508  7.680792  8.357295  7.515273  12.727377  15.028716  \n",
      "\n",
      "[100 rows x 12 columns]\n"
     ]
    }
   ],
   "source": [
    "yearly_data = data.resample('AS').mean()\n",
    "print(\"Yearly windspeed data for each location:\")\n",
    "print(yearly_data)"
   ]
  },
  {
   "cell_type": "markdown",
   "id": "08885b66",
   "metadata": {},
   "source": [
    "### Step 13: Downsample the record to a monthly frequency for each location."
   ]
  },
  {
   "cell_type": "code",
   "execution_count": 67,
   "id": "8620c1df",
   "metadata": {},
   "outputs": [
    {
     "name": "stdout",
     "output_type": "stream",
     "text": [
      "Monthly windspeed data for each location:\n",
      "                  RPT        VAL        ROS       KIL        SHA       BIR  \\\n",
      "date                                                                         \n",
      "1973-01-01  13.177742  12.202903  10.860968  5.454516   9.327419  7.419677   \n",
      "1973-02-01  14.411071  13.129643  10.126786  6.708929  12.078214  7.673929   \n",
      "1973-03-01  11.840645  11.706452  10.771290  5.574516   9.494516  6.273871   \n",
      "1973-04-01  13.827667  11.922667  13.310333  7.525333  10.236000  8.213000   \n",
      "1973-05-01  12.786129  11.152258  11.188387  6.472258  10.801290  8.265484   \n",
      "...               ...        ...        ...       ...        ...       ...   \n",
      "2072-08-01   9.822581   6.824194   9.757097  4.443871   6.490323  4.565484   \n",
      "2072-09-01   9.247333   7.534000  10.230667  3.791667   5.322333  3.580333   \n",
      "2072-10-01  11.489677   9.816774  11.952903  5.230968   7.185484  5.014516   \n",
      "2072-11-01  12.247333  12.351667  11.569333  5.364000   7.687000  5.761667   \n",
      "2072-12-01  15.641290  15.786774  13.743548  7.825806  11.673871  9.877742   \n",
      "\n",
      "                  DUB        CLA        MUL        CLO        BEL        MAL  \n",
      "date                                                                          \n",
      "1973-01-01  10.738710   7.880000   8.651290   7.596774  12.076452  14.684516  \n",
      "1973-02-01  10.943571   8.951071  10.840357   8.923214  14.941071  18.833571  \n",
      "1973-03-01   8.374194   8.080968   8.311935   7.856129  12.209677  15.496452  \n",
      "1973-04-01  10.935667   9.102000  10.109000  10.051000  13.134000  16.795000  \n",
      "1973-05-01   9.048065   8.895161   9.909355   8.887419  11.650645  15.821935  \n",
      "...               ...        ...        ...        ...        ...        ...  \n",
      "2072-08-01   8.524194   5.536452   7.302581   5.746774   9.592258  12.696452  \n",
      "2072-09-01   6.846333   5.241000   5.628000   4.171667   9.379000  10.560000  \n",
      "2072-10-01   9.021290   7.967097   7.726129   6.436774  11.919677  14.347742  \n",
      "2072-11-01  10.761000   8.375000   8.483000   7.318000  13.775667  17.888667  \n",
      "2072-12-01  12.566774  11.049355  10.232581   9.782258  17.575806  19.519355  \n",
      "\n",
      "[1200 rows x 12 columns]\n"
     ]
    }
   ],
   "source": [
    "monthly_data = data.resample('MS').mean()\n",
    "print(\"Monthly windspeed data for each location:\")\n",
    "print(monthly_data)"
   ]
  },
  {
   "cell_type": "markdown",
   "id": "359e08d0",
   "metadata": {},
   "source": [
    "### Step 14: Downsample the record to a weekly frequency for each location."
   ]
  },
  {
   "cell_type": "code",
   "execution_count": 72,
   "id": "b2da4791",
   "metadata": {},
   "outputs": [
    {
     "data": {
      "text/html": [
       "<div>\n",
       "<style scoped>\n",
       "    .dataframe tbody tr th:only-of-type {\n",
       "        vertical-align: middle;\n",
       "    }\n",
       "\n",
       "    .dataframe tbody tr th {\n",
       "        vertical-align: top;\n",
       "    }\n",
       "\n",
       "    .dataframe thead th {\n",
       "        text-align: right;\n",
       "    }\n",
       "</style>\n",
       "<table border=\"1\" class=\"dataframe\">\n",
       "  <thead>\n",
       "    <tr style=\"text-align: right;\">\n",
       "      <th></th>\n",
       "      <th>RPT</th>\n",
       "      <th>VAL</th>\n",
       "      <th>ROS</th>\n",
       "      <th>KIL</th>\n",
       "      <th>SHA</th>\n",
       "      <th>BIR</th>\n",
       "      <th>DUB</th>\n",
       "      <th>CLA</th>\n",
       "      <th>MUL</th>\n",
       "      <th>CLO</th>\n",
       "      <th>BEL</th>\n",
       "      <th>MAL</th>\n",
       "    </tr>\n",
       "    <tr>\n",
       "      <th>date</th>\n",
       "      <th></th>\n",
       "      <th></th>\n",
       "      <th></th>\n",
       "      <th></th>\n",
       "      <th></th>\n",
       "      <th></th>\n",
       "      <th></th>\n",
       "      <th></th>\n",
       "      <th></th>\n",
       "      <th></th>\n",
       "      <th></th>\n",
       "      <th></th>\n",
       "    </tr>\n",
       "  </thead>\n",
       "  <tbody>\n",
       "    <tr>\n",
       "      <th>1973-01-07</th>\n",
       "      <td>10.232857</td>\n",
       "      <td>9.808571</td>\n",
       "      <td>9.625714</td>\n",
       "      <td>3.778571</td>\n",
       "      <td>5.477143</td>\n",
       "      <td>4.868571</td>\n",
       "      <td>7.250000</td>\n",
       "      <td>4.597143</td>\n",
       "      <td>5.851429</td>\n",
       "      <td>4.314286</td>\n",
       "      <td>6.872857</td>\n",
       "      <td>7.470000</td>\n",
       "    </tr>\n",
       "    <tr>\n",
       "      <th>1973-01-14</th>\n",
       "      <td>15.321429</td>\n",
       "      <td>12.945714</td>\n",
       "      <td>12.935714</td>\n",
       "      <td>6.167143</td>\n",
       "      <td>10.128571</td>\n",
       "      <td>8.452857</td>\n",
       "      <td>9.434286</td>\n",
       "      <td>7.768571</td>\n",
       "      <td>8.004286</td>\n",
       "      <td>7.295714</td>\n",
       "      <td>10.671429</td>\n",
       "      <td>13.350000</td>\n",
       "    </tr>\n",
       "    <tr>\n",
       "      <th>1973-01-21</th>\n",
       "      <td>13.108571</td>\n",
       "      <td>11.118571</td>\n",
       "      <td>11.511429</td>\n",
       "      <td>6.454286</td>\n",
       "      <td>10.124286</td>\n",
       "      <td>7.864286</td>\n",
       "      <td>13.940000</td>\n",
       "      <td>7.905714</td>\n",
       "      <td>10.052857</td>\n",
       "      <td>9.957143</td>\n",
       "      <td>13.774286</td>\n",
       "      <td>21.265714</td>\n",
       "    </tr>\n",
       "    <tr>\n",
       "      <th>1973-01-28</th>\n",
       "      <td>13.880000</td>\n",
       "      <td>13.828571</td>\n",
       "      <td>10.168571</td>\n",
       "      <td>5.308571</td>\n",
       "      <td>11.178571</td>\n",
       "      <td>8.381429</td>\n",
       "      <td>11.878571</td>\n",
       "      <td>10.457143</td>\n",
       "      <td>10.207143</td>\n",
       "      <td>8.052857</td>\n",
       "      <td>15.477143</td>\n",
       "      <td>16.310000</td>\n",
       "    </tr>\n",
       "    <tr>\n",
       "      <th>1973-02-04</th>\n",
       "      <td>12.870000</td>\n",
       "      <td>12.214286</td>\n",
       "      <td>8.381429</td>\n",
       "      <td>5.204286</td>\n",
       "      <td>8.902857</td>\n",
       "      <td>6.342857</td>\n",
       "      <td>9.091429</td>\n",
       "      <td>7.900000</td>\n",
       "      <td>8.191429</td>\n",
       "      <td>7.992857</td>\n",
       "      <td>13.681429</td>\n",
       "      <td>13.415714</td>\n",
       "    </tr>\n",
       "    <tr>\n",
       "      <th>...</th>\n",
       "      <td>...</td>\n",
       "      <td>...</td>\n",
       "      <td>...</td>\n",
       "      <td>...</td>\n",
       "      <td>...</td>\n",
       "      <td>...</td>\n",
       "      <td>...</td>\n",
       "      <td>...</td>\n",
       "      <td>...</td>\n",
       "      <td>...</td>\n",
       "      <td>...</td>\n",
       "      <td>...</td>\n",
       "    </tr>\n",
       "    <tr>\n",
       "      <th>2072-12-04</th>\n",
       "      <td>15.422857</td>\n",
       "      <td>17.060000</td>\n",
       "      <td>12.874286</td>\n",
       "      <td>7.344286</td>\n",
       "      <td>11.495714</td>\n",
       "      <td>9.650000</td>\n",
       "      <td>14.695714</td>\n",
       "      <td>10.345714</td>\n",
       "      <td>10.357143</td>\n",
       "      <td>9.695714</td>\n",
       "      <td>16.191429</td>\n",
       "      <td>19.784286</td>\n",
       "    </tr>\n",
       "    <tr>\n",
       "      <th>2072-12-11</th>\n",
       "      <td>16.608571</td>\n",
       "      <td>16.554286</td>\n",
       "      <td>13.665714</td>\n",
       "      <td>6.861429</td>\n",
       "      <td>12.411429</td>\n",
       "      <td>10.328571</td>\n",
       "      <td>14.790000</td>\n",
       "      <td>10.678571</td>\n",
       "      <td>10.214286</td>\n",
       "      <td>10.210000</td>\n",
       "      <td>17.547143</td>\n",
       "      <td>19.607143</td>\n",
       "    </tr>\n",
       "    <tr>\n",
       "      <th>2072-12-18</th>\n",
       "      <td>17.917143</td>\n",
       "      <td>19.572857</td>\n",
       "      <td>16.711429</td>\n",
       "      <td>10.804286</td>\n",
       "      <td>14.940000</td>\n",
       "      <td>12.778571</td>\n",
       "      <td>15.614286</td>\n",
       "      <td>14.367143</td>\n",
       "      <td>12.125714</td>\n",
       "      <td>11.751429</td>\n",
       "      <td>20.471429</td>\n",
       "      <td>23.408571</td>\n",
       "    </tr>\n",
       "    <tr>\n",
       "      <th>2072-12-25</th>\n",
       "      <td>11.494286</td>\n",
       "      <td>12.504286</td>\n",
       "      <td>10.524286</td>\n",
       "      <td>5.554286</td>\n",
       "      <td>9.208571</td>\n",
       "      <td>7.370000</td>\n",
       "      <td>7.464286</td>\n",
       "      <td>9.154286</td>\n",
       "      <td>8.225714</td>\n",
       "      <td>8.070000</td>\n",
       "      <td>17.544286</td>\n",
       "      <td>18.154286</td>\n",
       "    </tr>\n",
       "    <tr>\n",
       "      <th>2073-01-01</th>\n",
       "      <td>16.540000</td>\n",
       "      <td>13.528333</td>\n",
       "      <td>14.568333</td>\n",
       "      <td>8.518333</td>\n",
       "      <td>9.986667</td>\n",
       "      <td>9.081667</td>\n",
       "      <td>11.366667</td>\n",
       "      <td>10.570000</td>\n",
       "      <td>10.666667</td>\n",
       "      <td>9.658333</td>\n",
       "      <td>16.193333</td>\n",
       "      <td>17.250000</td>\n",
       "    </tr>\n",
       "  </tbody>\n",
       "</table>\n",
       "<p>5218 rows × 12 columns</p>\n",
       "</div>"
      ],
      "text/plain": [
       "                  RPT        VAL        ROS        KIL        SHA        BIR  \\\n",
       "date                                                                           \n",
       "1973-01-07  10.232857   9.808571   9.625714   3.778571   5.477143   4.868571   \n",
       "1973-01-14  15.321429  12.945714  12.935714   6.167143  10.128571   8.452857   \n",
       "1973-01-21  13.108571  11.118571  11.511429   6.454286  10.124286   7.864286   \n",
       "1973-01-28  13.880000  13.828571  10.168571   5.308571  11.178571   8.381429   \n",
       "1973-02-04  12.870000  12.214286   8.381429   5.204286   8.902857   6.342857   \n",
       "...               ...        ...        ...        ...        ...        ...   \n",
       "2072-12-04  15.422857  17.060000  12.874286   7.344286  11.495714   9.650000   \n",
       "2072-12-11  16.608571  16.554286  13.665714   6.861429  12.411429  10.328571   \n",
       "2072-12-18  17.917143  19.572857  16.711429  10.804286  14.940000  12.778571   \n",
       "2072-12-25  11.494286  12.504286  10.524286   5.554286   9.208571   7.370000   \n",
       "2073-01-01  16.540000  13.528333  14.568333   8.518333   9.986667   9.081667   \n",
       "\n",
       "                  DUB        CLA        MUL        CLO        BEL        MAL  \n",
       "date                                                                          \n",
       "1973-01-07   7.250000   4.597143   5.851429   4.314286   6.872857   7.470000  \n",
       "1973-01-14   9.434286   7.768571   8.004286   7.295714  10.671429  13.350000  \n",
       "1973-01-21  13.940000   7.905714  10.052857   9.957143  13.774286  21.265714  \n",
       "1973-01-28  11.878571  10.457143  10.207143   8.052857  15.477143  16.310000  \n",
       "1973-02-04   9.091429   7.900000   8.191429   7.992857  13.681429  13.415714  \n",
       "...               ...        ...        ...        ...        ...        ...  \n",
       "2072-12-04  14.695714  10.345714  10.357143   9.695714  16.191429  19.784286  \n",
       "2072-12-11  14.790000  10.678571  10.214286  10.210000  17.547143  19.607143  \n",
       "2072-12-18  15.614286  14.367143  12.125714  11.751429  20.471429  23.408571  \n",
       "2072-12-25   7.464286   9.154286   8.225714   8.070000  17.544286  18.154286  \n",
       "2073-01-01  11.366667  10.570000  10.666667   9.658333  16.193333  17.250000  \n",
       "\n",
       "[5218 rows x 12 columns]"
      ]
     },
     "execution_count": 72,
     "metadata": {},
     "output_type": "execute_result"
    }
   ],
   "source": [
    "data.resample('W').mean()"
   ]
  },
  {
   "cell_type": "markdown",
   "id": "426349ad",
   "metadata": {},
   "source": [
    "### Step 15: Calculate the min, max and mean windspeeds and standard deviations of the windspeeds across all locations for each week (assume that the first week starts on January 2 1961) for the first 52 weeks."
   ]
  },
  {
   "cell_type": "code",
   "execution_count": 73,
   "id": "ab0c2f00",
   "metadata": {},
   "outputs": [
    {
     "name": "stdout",
     "output_type": "stream",
     "text": [
      "                  min        max       mean       std\n",
      "date                                                 \n",
      "1973-01-07   5.191429  13.904286   9.023095  2.693891\n",
      "1973-01-14   7.375714  20.247143  12.187738  3.473181\n",
      "1973-01-21   5.005714  17.631429  11.172262  3.471806\n",
      "1973-01-28   5.281429  13.418571   9.375119  2.672038\n",
      "1973-02-04   7.625714  21.701429  12.839643  3.810563\n",
      "1973-02-11   8.578571  19.824286  13.920476  4.139212\n",
      "1973-02-18   7.190000  22.737143  11.848452  4.070031\n",
      "1973-02-25   4.614286  15.212857   9.709881  3.163930\n",
      "1973-03-04   4.781429  15.134286   9.105714  3.060764\n",
      "1973-03-11   1.570000   9.320000   4.847262  2.504132\n",
      "1973-03-18   6.001429  15.018571   9.767857  2.859875\n",
      "1973-03-25   8.535714  22.000000  13.496071  3.647353\n",
      "1973-04-01  10.035714  23.790000  15.450000  3.636249\n",
      "1973-04-08   7.182857  14.668571  10.095238  2.472432\n",
      "1973-04-15   7.042857  16.392857  10.296905  2.484129\n",
      "1973-04-22   6.012857  15.545714   9.663810  2.821107\n",
      "1973-04-29   6.334286  14.968571  10.199405  2.605979\n",
      "1973-05-06   8.942857  19.838571  13.714524  2.968741\n",
      "1973-05-13   6.564286  16.851429  10.917024  2.693019\n",
      "1973-05-20   5.302857  14.071429   8.573810  2.142475\n",
      "1973-05-27   4.905714  11.845714   8.515476  2.385792\n",
      "1973-06-03   3.844286  11.920000   6.512024  2.389798\n",
      "1973-06-10   6.821429  17.905714  11.207619  3.109201\n",
      "1973-06-17   5.202857  13.564286   8.653095  2.456280\n",
      "1973-06-24   5.000000  11.787143   8.091786  2.377218\n",
      "1973-07-01   5.768571  12.084286   8.101429  2.203696\n",
      "1973-07-08   3.701429  11.234286   7.027857  2.256873\n",
      "1973-07-15   6.917143  15.464286  10.974524  2.430474\n",
      "1973-07-22   3.404286   8.687143   5.483929  1.559669\n",
      "1973-07-29   4.221429  11.922857   7.259762  2.423763\n",
      "1973-08-05   6.367143  14.987143   9.725119  2.848920\n",
      "1973-08-12   2.672857   9.025714   4.812619  1.907299\n",
      "1973-08-19   2.684286  10.234286   5.213929  2.229392\n",
      "1973-08-26   5.744286  15.654286   9.782381  3.275279\n",
      "1973-09-02   3.697143  12.554286   7.383929  2.977812\n",
      "1973-09-09   4.410000  12.284286   8.094762  2.810538\n",
      "1973-09-16   4.892857  12.244286   8.192738  2.759771\n",
      "1973-09-23   6.571429  19.031429  11.232024  3.814865\n",
      "1973-09-30   4.215714  13.034286   7.373929  2.921114\n",
      "1973-10-07   5.558571  16.028571  10.326548  3.584690\n",
      "1973-10-14   5.620000  19.611429  10.785476  3.701260\n",
      "1973-10-21   2.530000  15.865714   7.529405  3.764528\n",
      "1973-10-28   3.612857  11.605714   7.358214  2.926562\n",
      "1973-11-04   7.025714  19.965714  11.777143  3.544409\n",
      "1973-11-11   6.682857  23.182857  11.696667  4.232013\n",
      "1973-11-18   3.821429  18.057143   8.031548  3.641425\n",
      "1973-11-25   4.210000  15.148571   8.303571  3.375793\n",
      "1973-12-02   5.777143  18.750000  10.450714  3.455252\n",
      "1973-12-09   8.292857  25.028571  14.271905  4.287493\n",
      "1973-12-16   4.524286  17.610000  10.014167  3.718974\n",
      "1973-12-23   5.212857  18.938571  10.188810  3.456055\n",
      "1973-12-30   9.785714  23.040000  14.591190  3.960663\n"
     ]
    }
   ],
   "source": [
    "weekly_data = data.resample('W', closed='left', label='left').mean().iloc[1:53]\n",
    "weekly_stats = weekly_data.agg(['min', 'max', 'mean', 'std'], axis=1)\n",
    "print(weekly_stats)"
   ]
  },
  {
   "cell_type": "markdown",
   "id": "da982927",
   "metadata": {},
   "source": [
    "# Question 5 :\n",
    "\n",
    "### Step 1. Import the necessary libraries"
   ]
  },
  {
   "cell_type": "code",
   "execution_count": 74,
   "id": "ca901752",
   "metadata": {},
   "outputs": [],
   "source": [
    "import pandas as pd\n",
    "import numpy as np"
   ]
  },
  {
   "cell_type": "markdown",
   "id": "acb2dd40",
   "metadata": {},
   "source": [
    "### Step 2. Import the dataset from this address."
   ]
  },
  {
   "cell_type": "code",
   "execution_count": 75,
   "id": "8d81d485",
   "metadata": {},
   "outputs": [],
   "source": [
    "url = 'https://raw.githubusercontent.com/justmarkham/DAT8/master/data/chipotle.tsv'\n",
    "chipo = pd.read_csv(url, delimiter='\\t')"
   ]
  },
  {
   "cell_type": "markdown",
   "id": "0f8f35c4",
   "metadata": {},
   "source": [
    "### Step 3. Assign it to a variable called chipo."
   ]
  },
  {
   "cell_type": "code",
   "execution_count": 76,
   "id": "2f50364c",
   "metadata": {},
   "outputs": [],
   "source": [
    "chipo = pd.read_csv(url, delimiter='\\t')"
   ]
  },
  {
   "cell_type": "markdown",
   "id": "c5b4ecc5",
   "metadata": {},
   "source": [
    "### Step 4. See the first 10 entries"
   ]
  },
  {
   "cell_type": "code",
   "execution_count": 77,
   "id": "87153920",
   "metadata": {},
   "outputs": [
    {
     "data": {
      "text/html": [
       "<div>\n",
       "<style scoped>\n",
       "    .dataframe tbody tr th:only-of-type {\n",
       "        vertical-align: middle;\n",
       "    }\n",
       "\n",
       "    .dataframe tbody tr th {\n",
       "        vertical-align: top;\n",
       "    }\n",
       "\n",
       "    .dataframe thead th {\n",
       "        text-align: right;\n",
       "    }\n",
       "</style>\n",
       "<table border=\"1\" class=\"dataframe\">\n",
       "  <thead>\n",
       "    <tr style=\"text-align: right;\">\n",
       "      <th></th>\n",
       "      <th>order_id</th>\n",
       "      <th>quantity</th>\n",
       "      <th>item_name</th>\n",
       "      <th>choice_description</th>\n",
       "      <th>item_price</th>\n",
       "    </tr>\n",
       "  </thead>\n",
       "  <tbody>\n",
       "    <tr>\n",
       "      <th>0</th>\n",
       "      <td>1</td>\n",
       "      <td>1</td>\n",
       "      <td>Chips and Fresh Tomato Salsa</td>\n",
       "      <td>NaN</td>\n",
       "      <td>$2.39</td>\n",
       "    </tr>\n",
       "    <tr>\n",
       "      <th>1</th>\n",
       "      <td>1</td>\n",
       "      <td>1</td>\n",
       "      <td>Izze</td>\n",
       "      <td>[Clementine]</td>\n",
       "      <td>$3.39</td>\n",
       "    </tr>\n",
       "    <tr>\n",
       "      <th>2</th>\n",
       "      <td>1</td>\n",
       "      <td>1</td>\n",
       "      <td>Nantucket Nectar</td>\n",
       "      <td>[Apple]</td>\n",
       "      <td>$3.39</td>\n",
       "    </tr>\n",
       "    <tr>\n",
       "      <th>3</th>\n",
       "      <td>1</td>\n",
       "      <td>1</td>\n",
       "      <td>Chips and Tomatillo-Green Chili Salsa</td>\n",
       "      <td>NaN</td>\n",
       "      <td>$2.39</td>\n",
       "    </tr>\n",
       "    <tr>\n",
       "      <th>4</th>\n",
       "      <td>2</td>\n",
       "      <td>2</td>\n",
       "      <td>Chicken Bowl</td>\n",
       "      <td>[Tomatillo-Red Chili Salsa (Hot), [Black Beans...</td>\n",
       "      <td>$16.98</td>\n",
       "    </tr>\n",
       "    <tr>\n",
       "      <th>5</th>\n",
       "      <td>3</td>\n",
       "      <td>1</td>\n",
       "      <td>Chicken Bowl</td>\n",
       "      <td>[Fresh Tomato Salsa (Mild), [Rice, Cheese, Sou...</td>\n",
       "      <td>$10.98</td>\n",
       "    </tr>\n",
       "    <tr>\n",
       "      <th>6</th>\n",
       "      <td>3</td>\n",
       "      <td>1</td>\n",
       "      <td>Side of Chips</td>\n",
       "      <td>NaN</td>\n",
       "      <td>$1.69</td>\n",
       "    </tr>\n",
       "    <tr>\n",
       "      <th>7</th>\n",
       "      <td>4</td>\n",
       "      <td>1</td>\n",
       "      <td>Steak Burrito</td>\n",
       "      <td>[Tomatillo Red Chili Salsa, [Fajita Vegetables...</td>\n",
       "      <td>$11.75</td>\n",
       "    </tr>\n",
       "    <tr>\n",
       "      <th>8</th>\n",
       "      <td>4</td>\n",
       "      <td>1</td>\n",
       "      <td>Steak Soft Tacos</td>\n",
       "      <td>[Tomatillo Green Chili Salsa, [Pinto Beans, Ch...</td>\n",
       "      <td>$9.25</td>\n",
       "    </tr>\n",
       "    <tr>\n",
       "      <th>9</th>\n",
       "      <td>5</td>\n",
       "      <td>1</td>\n",
       "      <td>Steak Burrito</td>\n",
       "      <td>[Fresh Tomato Salsa, [Rice, Black Beans, Pinto...</td>\n",
       "      <td>$9.25</td>\n",
       "    </tr>\n",
       "  </tbody>\n",
       "</table>\n",
       "</div>"
      ],
      "text/plain": [
       "   order_id  quantity                              item_name  \\\n",
       "0         1         1           Chips and Fresh Tomato Salsa   \n",
       "1         1         1                                   Izze   \n",
       "2         1         1                       Nantucket Nectar   \n",
       "3         1         1  Chips and Tomatillo-Green Chili Salsa   \n",
       "4         2         2                           Chicken Bowl   \n",
       "5         3         1                           Chicken Bowl   \n",
       "6         3         1                          Side of Chips   \n",
       "7         4         1                          Steak Burrito   \n",
       "8         4         1                       Steak Soft Tacos   \n",
       "9         5         1                          Steak Burrito   \n",
       "\n",
       "                                  choice_description item_price  \n",
       "0                                                NaN     $2.39   \n",
       "1                                       [Clementine]     $3.39   \n",
       "2                                            [Apple]     $3.39   \n",
       "3                                                NaN     $2.39   \n",
       "4  [Tomatillo-Red Chili Salsa (Hot), [Black Beans...    $16.98   \n",
       "5  [Fresh Tomato Salsa (Mild), [Rice, Cheese, Sou...    $10.98   \n",
       "6                                                NaN     $1.69   \n",
       "7  [Tomatillo Red Chili Salsa, [Fajita Vegetables...    $11.75   \n",
       "8  [Tomatillo Green Chili Salsa, [Pinto Beans, Ch...     $9.25   \n",
       "9  [Fresh Tomato Salsa, [Rice, Black Beans, Pinto...     $9.25   "
      ]
     },
     "execution_count": 77,
     "metadata": {},
     "output_type": "execute_result"
    }
   ],
   "source": [
    "chipo.head(10)"
   ]
  },
  {
   "cell_type": "markdown",
   "id": "62d42ee0",
   "metadata": {},
   "source": [
    "### Step 5. What is the number of observations in the dataset?"
   ]
  },
  {
   "cell_type": "code",
   "execution_count": 78,
   "id": "9d7859c9",
   "metadata": {},
   "outputs": [
    {
     "data": {
      "text/plain": [
       "4622"
      ]
     },
     "execution_count": 78,
     "metadata": {},
     "output_type": "execute_result"
    }
   ],
   "source": [
    "chipo.shape[0]"
   ]
  },
  {
   "cell_type": "markdown",
   "id": "6b18757d",
   "metadata": {},
   "source": [
    "### Step 6. What is the number of columns in the dataset?"
   ]
  },
  {
   "cell_type": "code",
   "execution_count": 79,
   "id": "3728191d",
   "metadata": {},
   "outputs": [
    {
     "data": {
      "text/plain": [
       "5"
      ]
     },
     "execution_count": 79,
     "metadata": {},
     "output_type": "execute_result"
    }
   ],
   "source": [
    "chipo.shape[1]"
   ]
  },
  {
   "cell_type": "markdown",
   "id": "89dcd932",
   "metadata": {},
   "source": [
    "### Step 7. Print the name of all the columns."
   ]
  },
  {
   "cell_type": "code",
   "execution_count": 80,
   "id": "e111ad13",
   "metadata": {},
   "outputs": [
    {
     "data": {
      "text/plain": [
       "Index(['order_id', 'quantity', 'item_name', 'choice_description',\n",
       "       'item_price'],\n",
       "      dtype='object')"
      ]
     },
     "execution_count": 80,
     "metadata": {},
     "output_type": "execute_result"
    }
   ],
   "source": [
    "chipo.columns"
   ]
  },
  {
   "cell_type": "markdown",
   "id": "511e1118",
   "metadata": {},
   "source": [
    "### Step 8. How is the dataset indexed?"
   ]
  },
  {
   "cell_type": "code",
   "execution_count": 81,
   "id": "7762a63d",
   "metadata": {},
   "outputs": [
    {
     "data": {
      "text/plain": [
       "RangeIndex(start=0, stop=4622, step=1)"
      ]
     },
     "execution_count": 81,
     "metadata": {},
     "output_type": "execute_result"
    }
   ],
   "source": [
    "chipo.index"
   ]
  },
  {
   "cell_type": "markdown",
   "id": "f9fe5cb8",
   "metadata": {},
   "source": [
    "### Step 9. Which was the most-ordered item?"
   ]
  },
  {
   "cell_type": "code",
   "execution_count": 82,
   "id": "e1c59fd7",
   "metadata": {},
   "outputs": [
    {
     "data": {
      "text/html": [
       "<div>\n",
       "<style scoped>\n",
       "    .dataframe tbody tr th:only-of-type {\n",
       "        vertical-align: middle;\n",
       "    }\n",
       "\n",
       "    .dataframe tbody tr th {\n",
       "        vertical-align: top;\n",
       "    }\n",
       "\n",
       "    .dataframe thead th {\n",
       "        text-align: right;\n",
       "    }\n",
       "</style>\n",
       "<table border=\"1\" class=\"dataframe\">\n",
       "  <thead>\n",
       "    <tr style=\"text-align: right;\">\n",
       "      <th></th>\n",
       "      <th>order_id</th>\n",
       "      <th>quantity</th>\n",
       "    </tr>\n",
       "    <tr>\n",
       "      <th>item_name</th>\n",
       "      <th></th>\n",
       "      <th></th>\n",
       "    </tr>\n",
       "  </thead>\n",
       "  <tbody>\n",
       "    <tr>\n",
       "      <th>Chicken Bowl</th>\n",
       "      <td>713926</td>\n",
       "      <td>761</td>\n",
       "    </tr>\n",
       "  </tbody>\n",
       "</table>\n",
       "</div>"
      ],
      "text/plain": [
       "              order_id  quantity\n",
       "item_name                       \n",
       "Chicken Bowl    713926       761"
      ]
     },
     "execution_count": 82,
     "metadata": {},
     "output_type": "execute_result"
    }
   ],
   "source": [
    "most_ordered = chipo.groupby('item_name').sum().sort_values('quantity', ascending=False)\n",
    "most_ordered.head(1)"
   ]
  },
  {
   "cell_type": "markdown",
   "id": "704f7939",
   "metadata": {},
   "source": [
    "### Step 10. For the most-ordered item, how many items were ordered?"
   ]
  },
  {
   "cell_type": "code",
   "execution_count": 83,
   "id": "b99f4ae9",
   "metadata": {},
   "outputs": [
    {
     "data": {
      "text/plain": [
       "761"
      ]
     },
     "execution_count": 83,
     "metadata": {},
     "output_type": "execute_result"
    }
   ],
   "source": [
    "most_ordered.iloc[0]['quantity']"
   ]
  },
  {
   "cell_type": "markdown",
   "id": "6e27c6d7",
   "metadata": {},
   "source": [
    "### Step 11. What was the most ordered item in the choice_description column?"
   ]
  },
  {
   "cell_type": "code",
   "execution_count": 84,
   "id": "d9626a47",
   "metadata": {},
   "outputs": [
    {
     "data": {
      "text/html": [
       "<div>\n",
       "<style scoped>\n",
       "    .dataframe tbody tr th:only-of-type {\n",
       "        vertical-align: middle;\n",
       "    }\n",
       "\n",
       "    .dataframe tbody tr th {\n",
       "        vertical-align: top;\n",
       "    }\n",
       "\n",
       "    .dataframe thead th {\n",
       "        text-align: right;\n",
       "    }\n",
       "</style>\n",
       "<table border=\"1\" class=\"dataframe\">\n",
       "  <thead>\n",
       "    <tr style=\"text-align: right;\">\n",
       "      <th></th>\n",
       "      <th>order_id</th>\n",
       "      <th>quantity</th>\n",
       "    </tr>\n",
       "    <tr>\n",
       "      <th>choice_description</th>\n",
       "      <th></th>\n",
       "      <th></th>\n",
       "    </tr>\n",
       "  </thead>\n",
       "  <tbody>\n",
       "    <tr>\n",
       "      <th>[Diet Coke]</th>\n",
       "      <td>123455</td>\n",
       "      <td>159</td>\n",
       "    </tr>\n",
       "  </tbody>\n",
       "</table>\n",
       "</div>"
      ],
      "text/plain": [
       "                    order_id  quantity\n",
       "choice_description                    \n",
       "[Diet Coke]           123455       159"
      ]
     },
     "execution_count": 84,
     "metadata": {},
     "output_type": "execute_result"
    }
   ],
   "source": [
    "most_ordered = chipo.groupby('choice_description').sum().sort_values('quantity', ascending=False)\n",
    "most_ordered.head(1)"
   ]
  },
  {
   "cell_type": "markdown",
   "id": "febf8d55",
   "metadata": {},
   "source": [
    "### Step 12. How many items were ordered in total?"
   ]
  },
  {
   "cell_type": "code",
   "execution_count": 85,
   "id": "d3a85a66",
   "metadata": {},
   "outputs": [
    {
     "data": {
      "text/plain": [
       "4972"
      ]
     },
     "execution_count": 85,
     "metadata": {},
     "output_type": "execute_result"
    }
   ],
   "source": [
    "total_items_ordered = chipo['quantity'].sum()\n",
    "total_items_ordered"
   ]
  },
  {
   "cell_type": "markdown",
   "id": "d2b8c606",
   "metadata": {},
   "source": [
    "### Step 13.\n",
    "• Turn the item price into a float\n",
    "• Check the item price type\n",
    "• Create a lambda function and change the type of item price\n",
    "• Check the item price type"
   ]
  },
  {
   "cell_type": "code",
   "execution_count": 86,
   "id": "a69ae3a1",
   "metadata": {},
   "outputs": [
    {
     "data": {
      "text/plain": [
       "dtype('float64')"
      ]
     },
     "execution_count": 86,
     "metadata": {},
     "output_type": "execute_result"
    }
   ],
   "source": [
    "# Turn the item price into a float\n",
    "chipo['item_price'] = chipo['item_price'].apply(lambda x: float(x[1:-1]))\n",
    "\n",
    "# Check the item price type\n",
    "chipo['item_price'].dtype"
   ]
  },
  {
   "cell_type": "markdown",
   "id": "f6beb752",
   "metadata": {},
   "source": [
    "### Step 14. How much was the revenue for the period in the dataset?"
   ]
  },
  {
   "cell_type": "code",
   "execution_count": 87,
   "id": "b2488ae7",
   "metadata": {},
   "outputs": [
    {
     "data": {
      "text/plain": [
       "39237.02"
      ]
     },
     "execution_count": 87,
     "metadata": {},
     "output_type": "execute_result"
    }
   ],
   "source": [
    "revenue = (chipo['quantity'] * chipo['item_price']).sum()\n",
    "round(revenue, 2)"
   ]
  },
  {
   "cell_type": "markdown",
   "id": "92d899d0",
   "metadata": {},
   "source": [
    "### Step 15. How many orders were made in the period?"
   ]
  },
  {
   "cell_type": "code",
   "execution_count": 88,
   "id": "81166eb1",
   "metadata": {},
   "outputs": [
    {
     "data": {
      "text/plain": [
       "1834"
      ]
     },
     "execution_count": 88,
     "metadata": {},
     "output_type": "execute_result"
    }
   ],
   "source": [
    "orders = chipo['order_id'].nunique()\n",
    "orders"
   ]
  },
  {
   "cell_type": "markdown",
   "id": "df48276e",
   "metadata": {},
   "source": [
    "### Step 16. What is the average revenue amount per order?"
   ]
  },
  {
   "cell_type": "code",
   "execution_count": 90,
   "id": "5c7f1a58",
   "metadata": {},
   "outputs": [
    {
     "name": "stdout",
     "output_type": "stream",
     "text": [
      "Average revenue amount per order: $ 21.39\n"
     ]
    }
   ],
   "source": [
    "# calculate total revenue\n",
    "chipo['revenue'] = chipo['quantity'] * chipo['item_price']\n",
    "total_revenue = chipo['revenue'].sum()\n",
    "\n",
    "# calculate average revenue per order\n",
    "num_orders = chipo['order_id'].nunique()\n",
    "avg_revenue_per_order = total_revenue / num_orders\n",
    "\n",
    "print('Average revenue amount per order: $', round(avg_revenue_per_order, 2))\n"
   ]
  },
  {
   "cell_type": "markdown",
   "id": "a8349e27",
   "metadata": {},
   "source": [
    "# Question 6:\n",
    "\n",
    "### Create a line plot showing the number of marriages and divorces per capita in theU.S. between 1867 and 2014. Label both lines and show the legend."
   ]
  },
  {
   "cell_type": "code",
   "execution_count": 92,
   "id": "dcc14ec8",
   "metadata": {},
   "outputs": [
    {
     "data": {
      "image/png": "[encoded data removed]",
      "text/plain": [
       "<Figure size 640x480 with 1 Axes>"
      ]
     },
     "metadata": {},
     "output_type": "display_data"
    }
   ],
   "source": [
    "import pandas as pd\n",
    "import matplotlib.pyplot as plt\n",
    "\n",
    "# load the data\n",
    "data = pd.read_csv('us-marriages-divorces-1867-2014.csv')\n",
    "\n",
    "# create a line plot\n",
    "plt.plot(data['Year'], data['Marriages_per_1000'], label='Marriages')\n",
    "plt.plot(data['Year'], data['Divorces_per_1000'], label='Divorces')\n",
    "\n",
    "# set the labels and legend\n",
    "plt.xlabel('Year')\n",
    "plt.ylabel('Per Capita')\n",
    "plt.title('Marriages and Divorces per Capita in the U.S. (1867-2014)')\n",
    "plt.legend()\n",
    "\n",
    "# show the plot\n",
    "plt.show()"
   ]
  },
  {
   "cell_type": "markdown",
   "id": "606e7ec8",
   "metadata": {},
   "source": [
    "# Question 7:\n",
    "\n",
    "### Create a vertical bar chart comparing the number of marriages and divorces per capita in the U.S. between 1900, 1950, and 2000."
   ]
  },
  {
   "cell_type": "code",
   "execution_count": 97,
   "id": "037d01e7",
   "metadata": {},
   "outputs": [
    {
     "data": {
      "image/png": "[encoded data removed]",
      "text/plain": [
       "<Figure size 640x480 with 1 Axes>"
      ]
     },
     "metadata": {},
     "output_type": "display_data"
    }
   ],
   "source": [
    "import pandas as pd\n",
    "import matplotlib.pyplot as plt\n",
    "\n",
    "# Step 1: Read in the data from CSV file\n",
    "data = pd.read_csv('us-marriages-divorces-1867-2014.csv')\n",
    "\n",
    "\n",
    "# Step 2: Create a vertical bar chart comparing the number of marriages and divorces per capita in 1900, 1950, and 2000\n",
    "subset = data[data['Year'].isin([1900, 1950, 2000])]\n",
    "plt.bar(subset['Year']-4, subset['Marriages_per_1000'], width=4, label='Marriages')\n",
    "plt.bar(subset['Year'], subset['Divorces_per_1000'], width=4, label='Divorces')\n",
    "\n",
    "# Step 3: Add axis labels and legend\n",
    "plt.xlabel('Year')\n",
    "plt.ylabel('Number per 1000')\n",
    "plt.legend()\n",
    "\n",
    "# Step 4: Show the plot\n",
    "plt.show()\n"
   ]
  },
  {
   "cell_type": "markdown",
   "id": "9ab45db0",
   "metadata": {},
   "source": [
    "# Question 8:\n",
    "\n",
    "### Create a horizontal bar chart that compares the deadliest actors in Hollywood. Sort the actors by their kill count and label each bar with the corresponding actor's name."
   ]
  },
  {
   "cell_type": "code",
   "execution_count": 98,
   "id": "8ae1458a",
   "metadata": {},
   "outputs": [
    {
     "data": {
      "image/png": "[encoded data removed]",
      "text/plain": [
       "<Figure size 640x480 with 1 Axes>"
      ]
     },
     "metadata": {},
     "output_type": "display_data"
    }
   ],
   "source": [
    "import pandas as pd\n",
    "import matplotlib.pyplot as plt\n",
    "\n",
    "# Load the data into a pandas DataFrame\n",
    "data = pd.read_csv('actor_kill_counts.csv')\n",
    "\n",
    "# Sort the data by kill count\n",
    "data = data.sort_values('Count')\n",
    "\n",
    "# Create a horizontal bar chart\n",
    "plt.barh(data['Actor'], data['Count'])\n",
    "\n",
    "# Add labels and title\n",
    "plt.xlabel('Kill Count')\n",
    "plt.ylabel('Actor')\n",
    "plt.title('Deadliest Actors in Hollywood')\n",
    "\n",
    "# Show the plot\n",
    "plt.show()"
   ]
  },
  {
   "cell_type": "markdown",
   "id": "11fee804",
   "metadata": {},
   "source": [
    "# Question 9:\n",
    "\n",
    "### Create a pie chart showing the fraction of all Roman Emperors that were assassinated."
   ]
  },
  {
   "cell_type": "code",
   "execution_count": 99,
   "id": "01c8442e",
   "metadata": {},
   "outputs": [
    {
     "data": {
      "image/png": "[encoded data removed]",
      "text/plain": [
       "<Figure size 640x480 with 1 Axes>"
      ]
     },
     "metadata": {},
     "output_type": "display_data"
    }
   ],
   "source": [
    "import pandas as pd\n",
    "import matplotlib.pyplot as plt\n",
    "\n",
    "# Read the data into a pandas dataframe\n",
    "data = pd.read_csv('roman-emperor-reigns.csv')\n",
    "\n",
    "# Count the number of emperors that were assassinated\n",
    "assassinated = data[data['Cause_of_Death'] == 'Assassinated']['Emperor'].count()\n",
    "\n",
    "# Count the number of emperors that died of other causes\n",
    "other = data[data['Cause_of_Death'] != 'Assassinated']['Emperor'].count()\n",
    "\n",
    "# Create a pie chart\n",
    "labels = ['Assassinated', 'Other']\n",
    "sizes = [assassinated, other]\n",
    "plt.pie(sizes, labels=labels, autopct='%1.1f%%', startangle=90)\n",
    "\n",
    "# Make the pie chart an even circle\n",
    "plt.axis('equal')\n",
    "\n",
    "# Add a title\n",
    "plt.title('Fraction of all Roman Emperors that were assassinated')\n",
    "\n",
    "# Show the chart\n",
    "plt.show()"
   ]
  },
  {
   "cell_type": "markdown",
   "id": "9fe47617",
   "metadata": {},
   "source": [
    "# Question 10 :\n",
    "\n",
    "### Create a scatter plot showing the relationship between the total revenue earned by arcades and the number of Computer Science PhDs awarded in the U.S. between 2000 and 2009."
   ]
  },
  {
   "cell_type": "code",
   "execution_count": 100,
   "id": "f174444c",
   "metadata": {},
   "outputs": [
    {
     "data": {
      "image/png": "[encoded data removed]",
      "text/plain": [
       "<Figure size 640x480 with 2 Axes>"
      ]
     },
     "metadata": {},
     "output_type": "display_data"
    }
   ],
   "source": [
    "import pandas as pd\n",
    "import matplotlib.pyplot as plt\n",
    "\n",
    "# Load the data into a pandas DataFrame\n",
    "data = pd.read_csv(\"arcade-revenue-vs-cs-doctorates.csv\")\n",
    "\n",
    "# Create a scatter plot with revenue on the x-axis, number of CS PhDs on the y-axis, and colored by year\n",
    "plt.scatter(data[\"Total Arcade Revenue (billions)\"], data[\"Computer Science Doctorates Awarded (US)\"], c=data[\"Year\"])\n",
    "\n",
    "# Add labels for the x-axis and y-axis\n",
    "plt.xlabel(\"Total Arcade Revenue (billions)\")\n",
    "plt.ylabel(\"Computer Science Doctorates Awarded (US)\")\n",
    "\n",
    "# Add a colorbar to show the year values\n",
    "plt.colorbar()\n",
    "\n",
    "# Display the plot\n",
    "plt.show()"
   ]
  },
  {
   "cell_type": "code",
   "execution_count": null,
   "id": "0ab37888",
   "metadata": {},
   "outputs": [],
   "source": []
  }
 ],
 "metadata": {
  "kernelspec": {
   "display_name": "Python 3 (ipykernel)",
   "language": "python",
   "name": "python3"
  },
  "language_info": {
   "codemirror_mode": {
    "name": "ipython",
    "version": 3
   },
   "file_extension": ".py",
   "mimetype": "text/x-python",
   "name": "python",
   "nbconvert_exporter": "python",
   "pygments_lexer": "ipython3",
   "version": "3.9.13"
  }
 },
 "nbformat": 4,
 "nbformat_minor": 5
}
